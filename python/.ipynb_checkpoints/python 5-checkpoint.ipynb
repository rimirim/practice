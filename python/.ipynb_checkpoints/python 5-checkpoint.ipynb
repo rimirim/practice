{
 "cells": [
  {
   "cell_type": "code",
   "execution_count": null,
   "id": "42a8daf7",
   "metadata": {},
   "outputs": [],
   "source": [
    "\n",
    "from flask import Flask, url_for, request, jsonify\n",
    "from flask_cors import CORS, cross_origin\n",
    "\n",
    "import json\n",
    "\n",
    "app = Flask(__name__)\n",
    "\n",
    "@app.route('/python-request', methods = ['GET'])\n",
    "def spring2python():\n",
    "    print(\"스프링 요청 성공!\")\n",
    "    data = {\"spring2python Success!\": True}\n",
    "    \n",
    "    return jsonify(data)\n",
    "\n",
    "@app.route('/python-request-multi', methods = ['GET'])\n",
    "def spring2python_multi():\n",
    "    data = {\"Success\": True}\n",
    "    \n",
    "    data[\"userId\"] = \"blabla\"\n",
    "    data[\"email\"] = \"blabla@gmail.com\"\n",
    "    \n",
    "    return jsonify(data)\n",
    "\n",
    "@app.route('/python-request-realdata', methods = ['POST'])\n",
    "def spring2python_realdata():\n",
    "    params = json.loads(request.get_data(), encoding='utf-8')\n",
    "    print(\"params: \",params)\n",
    "    \n",
    "    if len(params) == 0:\n",
    "        return jsonify(\"No Parameter!\")\n",
    "    \n",
    "    params_string = \"\"\n",
    "    for key in params.keys():\n",
    "        params_string += 'key: {}, value: {}<br>'.format(key, params[key])\n",
    "    \n",
    "    return jsonify(params_string)\n",
    "\n",
    "if __name__ == \"__main__\":\n",
    "    app.run()"
   ]
  },
  {
   "cell_type": "code",
   "execution_count": null,
   "id": "891b9bc3",
   "metadata": {},
   "outputs": [],
   "source": []
  }
 ],
 "metadata": {
  "kernelspec": {
   "display_name": "Python 3 (ipykernel)",
   "language": "python",
   "name": "python3"
  },
  "language_info": {
   "codemirror_mode": {
    "name": "ipython",
    "version": 3
   },
   "file_extension": ".py",
   "mimetype": "text/x-python",
   "name": "python",
   "nbconvert_exporter": "python",
   "pygments_lexer": "ipython3",
   "version": "3.9.12"
  }
 },
 "nbformat": 4,
 "nbformat_minor": 5
}
