{
 "cells": [
  {
   "cell_type": "code",
   "execution_count": 1,
   "id": "ae94f909",
   "metadata": {},
   "outputs": [],
   "source": [
    "import pandas as pd"
   ]
  },
  {
   "cell_type": "code",
   "execution_count": 20,
   "id": "ed6bfa34",
   "metadata": {},
   "outputs": [
    {
     "name": "stdout",
     "output_type": "stream",
     "text": [
      "   1      하이     연습     ㅎㅎ   2022-03-13 15:56:52\n",
      "0  2      하이     연습     ㅎㅎ   2022-03-13 15:56:55\n",
      "1  3   제발되어라     ㅇㅇ   이게무슨   2022-03-13 15:57:10\n",
      "2  5    크래프트   먹을만함   콜드브루   2022-03-13 17:05:16\n"
     ]
    }
   ],
   "source": [
    "# UnicodeDecodeError <-- engine='python'\n",
    "# ParserError: Expected 9 fields in line 9, saw 15 <-- bad line 문제일 가능성이 있음 (error_bad_lines=False)\n",
    "data = pd.read_csv(\"mysql2csv.csv\", engine='python', encoding='CP949')\n",
    "\n",
    "data.drop(['Unnamed: 5'], axis=1, inplace=True)\n",
    "\n",
    "print(data)"
   ]
  },
  {
   "cell_type": "code",
   "execution_count": 22,
   "id": "226ab95b",
   "metadata": {},
   "outputs": [
    {
     "data": {
      "text/html": [
       "<div>\n",
       "<style scoped>\n",
       "    .dataframe tbody tr th:only-of-type {\n",
       "        vertical-align: middle;\n",
       "    }\n",
       "\n",
       "    .dataframe tbody tr th {\n",
       "        vertical-align: top;\n",
       "    }\n",
       "\n",
       "    .dataframe thead th {\n",
       "        text-align: right;\n",
       "    }\n",
       "</style>\n",
       "<table border=\"1\" class=\"dataframe\">\n",
       "  <thead>\n",
       "    <tr style=\"text-align: right;\">\n",
       "      <th></th>\n",
       "      <th>1</th>\n",
       "      <th>하이</th>\n",
       "      <th>연습</th>\n",
       "      <th>ㅎㅎ</th>\n",
       "      <th>2022-03-13 15:56:52</th>\n",
       "    </tr>\n",
       "  </thead>\n",
       "  <tbody>\n",
       "    <tr>\n",
       "      <th>0</th>\n",
       "      <td>2</td>\n",
       "      <td>하이</td>\n",
       "      <td>연습</td>\n",
       "      <td>ㅎㅎ</td>\n",
       "      <td>2022-03-13 15:56:55</td>\n",
       "    </tr>\n",
       "    <tr>\n",
       "      <th>1</th>\n",
       "      <td>3</td>\n",
       "      <td>제발되어라</td>\n",
       "      <td>ㅇㅇ</td>\n",
       "      <td>이게무슨</td>\n",
       "      <td>2022-03-13 15:57:10</td>\n",
       "    </tr>\n",
       "    <tr>\n",
       "      <th>2</th>\n",
       "      <td>5</td>\n",
       "      <td>크래프트</td>\n",
       "      <td>먹을만함</td>\n",
       "      <td>콜드브루</td>\n",
       "      <td>2022-03-13 17:05:16</td>\n",
       "    </tr>\n",
       "  </tbody>\n",
       "</table>\n",
       "</div>"
      ],
      "text/plain": [
       "   1      하이     연습     ㅎㅎ   2022-03-13 15:56:52\n",
       "0  2      하이     연습     ㅎㅎ   2022-03-13 15:56:55\n",
       "1  3   제발되어라     ㅇㅇ   이게무슨   2022-03-13 15:57:10\n",
       "2  5    크래프트   먹을만함   콜드브루   2022-03-13 17:05:16"
      ]
     },
     "execution_count": 22,
     "metadata": {},
     "output_type": "execute_result"
    }
   ],
   "source": [
    "data.head()"
   ]
  },
  {
   "cell_type": "code",
   "execution_count": 23,
   "id": "8fc617c2",
   "metadata": {},
   "outputs": [
    {
     "data": {
      "text/html": [
       "<div>\n",
       "<style scoped>\n",
       "    .dataframe tbody tr th:only-of-type {\n",
       "        vertical-align: middle;\n",
       "    }\n",
       "\n",
       "    .dataframe tbody tr th {\n",
       "        vertical-align: top;\n",
       "    }\n",
       "\n",
       "    .dataframe thead th {\n",
       "        text-align: right;\n",
       "    }\n",
       "</style>\n",
       "<table border=\"1\" class=\"dataframe\">\n",
       "  <thead>\n",
       "    <tr style=\"text-align: right;\">\n",
       "      <th></th>\n",
       "      <th>board_no</th>\n",
       "      <th>title</th>\n",
       "      <th>content</th>\n",
       "      <th>writer</th>\n",
       "      <th>reg_date</th>\n",
       "    </tr>\n",
       "  </thead>\n",
       "  <tbody>\n",
       "    <tr>\n",
       "      <th>0</th>\n",
       "      <td>2</td>\n",
       "      <td>하이</td>\n",
       "      <td>연습</td>\n",
       "      <td>ㅎㅎ</td>\n",
       "      <td>2022-03-13 15:56:55</td>\n",
       "    </tr>\n",
       "    <tr>\n",
       "      <th>1</th>\n",
       "      <td>3</td>\n",
       "      <td>제발되어라</td>\n",
       "      <td>ㅇㅇ</td>\n",
       "      <td>이게무슨</td>\n",
       "      <td>2022-03-13 15:57:10</td>\n",
       "    </tr>\n",
       "    <tr>\n",
       "      <th>2</th>\n",
       "      <td>5</td>\n",
       "      <td>크래프트</td>\n",
       "      <td>먹을만함</td>\n",
       "      <td>콜드브루</td>\n",
       "      <td>2022-03-13 17:05:16</td>\n",
       "    </tr>\n",
       "  </tbody>\n",
       "</table>\n",
       "</div>"
      ],
      "text/plain": [
       "   board_no   title content writer              reg_date\n",
       "0         2      하이      연습     ㅎㅎ   2022-03-13 15:56:55\n",
       "1         3   제발되어라      ㅇㅇ   이게무슨   2022-03-13 15:57:10\n",
       "2         5    크래프트    먹을만함   콜드브루   2022-03-13 17:05:16"
      ]
     },
     "execution_count": 23,
     "metadata": {},
     "output_type": "execute_result"
    }
   ],
   "source": [
    "data.columns = ['board_no','title','content','writer','reg_date']\n",
    "\n",
    "data"
   ]
  },
  {
   "cell_type": "code",
   "execution_count": 31,
   "id": "82eebb79",
   "metadata": {},
   "outputs": [
    {
     "name": "stdout",
     "output_type": "stream",
     "text": [
      "   0       1      2      3                     4\n",
      "0  1      하이     연습     ㅎㅎ   2022-03-13 15:56:52\n",
      "1  2      하이     연습     ㅎㅎ   2022-03-13 15:56:55\n",
      "2  3   제발되어라     ㅇㅇ   이게무슨   2022-03-13 15:57:10\n",
      "3  5    크래프트   먹을만함   콜드브루   2022-03-13 17:05:16\n"
     ]
    }
   ],
   "source": [
    "data = pd.read_csv(\"mysql2csv.csv\", header=None, engine='python', encoding='CP949')\n",
    "data.drop([5], axis=1, inplace=True)\n",
    "\n",
    "print(data)"
   ]
  },
  {
   "cell_type": "code",
   "execution_count": 32,
   "id": "59636b37",
   "metadata": {},
   "outputs": [
    {
     "data": {
      "text/html": [
       "<div>\n",
       "<style scoped>\n",
       "    .dataframe tbody tr th:only-of-type {\n",
       "        vertical-align: middle;\n",
       "    }\n",
       "\n",
       "    .dataframe tbody tr th {\n",
       "        vertical-align: top;\n",
       "    }\n",
       "\n",
       "    .dataframe thead th {\n",
       "        text-align: right;\n",
       "    }\n",
       "</style>\n",
       "<table border=\"1\" class=\"dataframe\">\n",
       "  <thead>\n",
       "    <tr style=\"text-align: right;\">\n",
       "      <th></th>\n",
       "      <th>board_no</th>\n",
       "      <th>title</th>\n",
       "      <th>content</th>\n",
       "      <th>writer</th>\n",
       "      <th>reg_date</th>\n",
       "    </tr>\n",
       "  </thead>\n",
       "  <tbody>\n",
       "    <tr>\n",
       "      <th>0</th>\n",
       "      <td>1</td>\n",
       "      <td>하이</td>\n",
       "      <td>연습</td>\n",
       "      <td>ㅎㅎ</td>\n",
       "      <td>2022-03-13 15:56:52</td>\n",
       "    </tr>\n",
       "    <tr>\n",
       "      <th>1</th>\n",
       "      <td>2</td>\n",
       "      <td>하이</td>\n",
       "      <td>연습</td>\n",
       "      <td>ㅎㅎ</td>\n",
       "      <td>2022-03-13 15:56:55</td>\n",
       "    </tr>\n",
       "    <tr>\n",
       "      <th>2</th>\n",
       "      <td>3</td>\n",
       "      <td>제발되어라</td>\n",
       "      <td>ㅇㅇ</td>\n",
       "      <td>이게무슨</td>\n",
       "      <td>2022-03-13 15:57:10</td>\n",
       "    </tr>\n",
       "    <tr>\n",
       "      <th>3</th>\n",
       "      <td>5</td>\n",
       "      <td>크래프트</td>\n",
       "      <td>먹을만함</td>\n",
       "      <td>콜드브루</td>\n",
       "      <td>2022-03-13 17:05:16</td>\n",
       "    </tr>\n",
       "  </tbody>\n",
       "</table>\n",
       "</div>"
      ],
      "text/plain": [
       "   board_no   title content writer              reg_date\n",
       "0         1      하이      연습     ㅎㅎ   2022-03-13 15:56:52\n",
       "1         2      하이      연습     ㅎㅎ   2022-03-13 15:56:55\n",
       "2         3   제발되어라      ㅇㅇ   이게무슨   2022-03-13 15:57:10\n",
       "3         5    크래프트    먹을만함   콜드브루   2022-03-13 17:05:16"
      ]
     },
     "execution_count": 32,
     "metadata": {},
     "output_type": "execute_result"
    }
   ],
   "source": [
    "data.columns = ['board_no','title','content','writer','reg_date']\n",
    "\n",
    "data"
   ]
  },
  {
   "cell_type": "code",
   "execution_count": 33,
   "id": "a976abe1",
   "metadata": {},
   "outputs": [],
   "source": [
    "import pymysql\n",
    "import datetime\n",
    "import pickle\n",
    "\n",
    "MYSQL_USER_DATA_SAVED_FILE = \"mysql/userinfo\"\n",
    "\n",
    "f = open(MYSQL_USER_DATA_SAVED_FILE, 'rb')\n",
    "mysql_user_info = pickle.load(f)\n",
    "f.close()"
   ]
  },
  {
   "cell_type": "code",
   "execution_count": 34,
   "id": "49f568c7",
   "metadata": {},
   "outputs": [],
   "source": [
    "db = pymysql.connect(\n",
    "    host = '127.0.0.1',\n",
    "    port = 3306,\n",
    "    user = mysql_user_info['user_id'],\n",
    "    passwd = mysql_user_info['password'],\n",
    "    db = 'non_jpa_db'\n",
    ")"
   ]
  },
  {
   "cell_type": "code",
   "execution_count": 35,
   "id": "d3a27aa2",
   "metadata": {},
   "outputs": [
    {
     "name": "stderr",
     "output_type": "stream",
     "text": [
      "C:\\python\\lib\\site-packages\\pandas\\io\\sql.py:761: UserWarning: pandas only support SQLAlchemy connectable(engine/connection) ordatabase string URI or sqlite3 DBAPI2 connectionother DBAPI2 objects are not tested, please consider using SQLAlchemy\n",
      "  warnings.warn(\n"
     ]
    }
   ],
   "source": [
    "sql = \"\"\"\n",
    "    select * from board;\n",
    "\"\"\"\n",
    "\n",
    "data = pd.read_sql_query(sql, db)\n",
    "data.to_csv(r\"db2csv.csv\", index = False, encoding='utf-8-sig')"
   ]
  },
  {
   "cell_type": "code",
   "execution_count": 36,
   "id": "8423f7c8",
   "metadata": {},
   "outputs": [],
   "source": [
    "db.close()"
   ]
  },
  {
   "cell_type": "code",
   "execution_count": 37,
   "id": "400d3077",
   "metadata": {},
   "outputs": [
    {
     "name": "stdout",
     "output_type": "stream",
     "text": [
      " C 드라이브의 볼륨에는 이름이 없습니다.\n",
      " 볼륨 일련 번호: C83F-50B9\n",
      "\n",
      " C:\\practice\\python 디렉터리\n",
      "\n",
      "2022-05-20  오후 04:39    <DIR>          .\n",
      "2022-05-20  오후 04:39    <DIR>          ..\n",
      "2022-05-20  오후 04:33    <DIR>          .idea\n",
      "2022-05-20  오후 03:45    <DIR>          .ipynb_checkpoints\n",
      "2022-05-13  오후 04:47                37 colors\n",
      "2022-05-20  오후 04:39               252 db2csv.csv\n",
      "2022-05-16  오후 05:39    <DIR>          mysql\n",
      "2022-05-19  오후 05:54               194 mysql2csv.csv\n",
      "2022-05-12  오후 06:55            15,480 python 1.ipynb\n",
      "2022-05-13  오후 06:01            37,890 python 2.ipynb\n",
      "2022-05-16  오후 06:08            16,073 python 3.ipynb\n",
      "2022-05-17  오후 06:05           332,399 python 4.ipynb\n",
      "2022-05-19  오후 05:57            23,672 python 5.ipynb\n",
      "2022-05-20  오후 04:39            10,757 python 6.ipynb\n",
      "2022-05-13  오후 04:43                12 test.txt\n",
      "2022-05-19  오후 05:29            70,281 test_1.jpg\n",
      "2022-05-19  오후 05:29            18,367 test_10.jpg\n",
      "2022-05-19  오후 05:29             7,031 test_11.jpg\n",
      "2022-05-19  오후 05:29            49,909 test_12.jpg\n",
      "2022-05-19  오후 05:29            47,983 test_13.jpg\n",
      "2022-05-19  오후 05:29            57,033 test_14.jpg\n",
      "2022-05-19  오후 05:29           215,245 test_15.jpg\n",
      "2022-05-19  오후 05:29            40,785 test_16.jpg\n",
      "2022-05-19  오후 05:29           143,856 test_17.jpg\n",
      "2022-05-19  오후 05:29            30,663 test_18.jpg\n",
      "2022-05-19  오후 05:29            22,085 test_19.jpg\n",
      "2022-05-19  오후 05:29            34,634 test_2.jpg\n",
      "2022-05-19  오후 05:29            38,436 test_20.jpg\n",
      "2022-05-19  오후 05:29            38,562 test_21.jpg\n",
      "2022-05-19  오후 05:29            48,526 test_22.jpg\n",
      "2022-05-19  오후 05:29            25,745 test_23.jpg\n",
      "2022-05-19  오후 05:29            68,142 test_24.jpg\n",
      "2022-05-19  오후 05:29           339,394 test_25.jpg\n",
      "2022-05-19  오후 05:29           135,023 test_26.jpg\n",
      "2022-05-19  오후 05:29            93,574 test_27.jpg\n",
      "2022-05-19  오후 05:29           145,661 test_28.jpg\n",
      "2022-05-19  오후 05:29            15,215 test_29.jpg\n",
      "2022-05-19  오후 05:29            37,519 test_3.jpg\n",
      "2022-05-19  오후 05:29            54,727 test_30.jpg\n",
      "2022-05-19  오후 05:29           123,040 test_31.jpg\n",
      "2022-05-19  오후 05:29           138,203 test_32.jpg\n",
      "2022-05-19  오후 05:29            82,515 test_33.jpg\n",
      "2022-05-19  오후 05:29            58,332 test_34.jpg\n",
      "2022-05-19  오후 05:29            33,353 test_35.jpg\n",
      "2022-05-19  오후 05:29            68,472 test_36.jpg\n",
      "2022-05-19  오후 05:29            58,170 test_37.jpg\n",
      "2022-05-19  오후 05:29           584,105 test_38.jpg\n",
      "2022-05-19  오후 05:29             8,183 test_39.jpg\n",
      "2022-05-19  오후 05:29            16,621 test_4.jpg\n",
      "2022-05-19  오후 05:29            27,553 test_40.jpg\n",
      "2022-05-19  오후 05:29            61,166 test_41.jpg\n",
      "2022-05-19  오후 05:29            39,614 test_42.jpg\n",
      "2022-05-19  오후 05:29            21,745 test_43.jpg\n",
      "2022-05-19  오후 05:29           601,519 test_44.jpg\n",
      "2022-05-19  오후 05:29            41,273 test_45.jpg\n",
      "2022-05-19  오후 05:29            25,752 test_46.jpg\n",
      "2022-05-19  오후 05:29            76,820 test_47.jpg\n",
      "2022-05-19  오후 05:29            68,131 test_48.jpg\n",
      "2022-05-19  오후 05:29            83,187 test_49.jpg\n",
      "2022-05-19  오후 05:29            37,967 test_5.jpg\n",
      "2022-05-19  오후 05:29           518,453 test_50.jpg\n",
      "2022-05-19  오후 05:29           100,117 test_51.jpg\n",
      "2022-05-19  오후 05:29            62,585 test_52.jpg\n",
      "2022-05-19  오후 05:29            20,940 test_53.jpg\n",
      "2022-05-19  오후 05:29            23,842 test_54.jpg\n",
      "2022-05-19  오후 05:29            45,427 test_55.jpg\n",
      "2022-05-19  오후 05:29            39,750 test_56.jpg\n",
      "2022-05-19  오후 05:29            81,857 test_57.jpg\n",
      "2022-05-19  오후 05:29            29,713 test_58.jpg\n",
      "2022-05-19  오후 05:29           118,112 test_59.jpg\n",
      "2022-05-19  오후 05:29            51,948 test_60.jpg\n",
      "2022-05-19  오후 05:29            41,828 test_61.jpg\n",
      "2022-05-19  오후 05:29           122,772 test_62.jpg\n",
      "2022-05-19  오후 05:29            10,420 test_63.jpg\n",
      "2022-05-19  오후 05:29           101,881 test_64.jpg\n",
      "2022-05-19  오후 05:29            95,087 test_65.jpg\n",
      "2022-05-19  오후 05:29            22,816 test_66.jpg\n",
      "2022-05-19  오후 05:29           254,240 test_67.jpg\n",
      "2022-05-19  오후 05:29            43,138 test_68.jpg\n",
      "2022-05-19  오후 05:29            68,091 test_69.jpg\n",
      "2022-05-19  오후 05:29            85,411 test_7.jpg\n",
      "2022-05-19  오후 05:29           227,984 test_70.jpg\n",
      "2022-05-19  오후 05:29            19,191 test_71.jpg\n",
      "2022-05-19  오후 05:29             9,612 test_72.jpg\n",
      "2022-05-19  오후 05:29            13,965 test_73.jpg\n",
      "2022-05-19  오후 05:29            47,800 test_74.jpg\n",
      "2022-05-19  오후 05:29             7,409 test_75.jpg\n",
      "2022-05-19  오후 05:29            20,163 test_76.jpg\n",
      "2022-05-19  오후 05:29            42,539 test_77.jpg\n",
      "2022-05-19  오후 05:29            18,635 test_78.jpg\n",
      "2022-05-19  오후 05:29            49,761 test_79.jpg\n",
      "2022-05-19  오후 05:29           148,625 test_8.jpg\n",
      "2022-05-19  오후 05:29           125,459 test_80.jpg\n",
      "2022-05-19  오후 05:29            24,217 test_9.jpg\n",
      "              89개 파일           7,164,671 바이트\n",
      "               5개 디렉터리  345,877,643,264 바이트 남음\n"
     ]
    }
   ],
   "source": [
    "!dir"
   ]
  },
  {
   "cell_type": "code",
   "execution_count": 38,
   "id": "326337a0",
   "metadata": {},
   "outputs": [],
   "source": [
    "# csv -> db\n",
    "\n",
    "db = pymysql.connect(\n",
    "    host = '127.0.0.1',\n",
    "    port = 3306,\n",
    "    user = mysql_user_info['user_id'],\n",
    "    passwd = mysql_user_info['password'],\n",
    "    db = 'pydb'\n",
    ")"
   ]
  },
  {
   "cell_type": "code",
   "execution_count": 39,
   "id": "81256228",
   "metadata": {},
   "outputs": [
    {
     "name": "stdout",
     "output_type": "stream",
     "text": [
      "테이블 생성 성공!\n"
     ]
    }
   ],
   "source": [
    "cursor = db.cursor()\n",
    "# 커서가 있어야 db를 제어할 수 있다.\n",
    "\n",
    "sql = \"\"\"\n",
    "    create table csv_to_db_test(\n",
    "        board_no int unsigned not null auto_increment,\n",
    "        title varchar(200) not null,\n",
    "        content text not null,\n",
    "        writer varchar(50) not null,\n",
    "        reg_date timestamp default now(),\n",
    "        primary key(board_no)\n",
    "    )\n",
    "\"\"\"\n",
    "\n",
    "cursor.execute(sql)\n",
    "# 쿼리 실행\n",
    "db.commit()\n",
    "# db에 적용\n",
    "db.close()\n",
    "print('테이블 생성 성공!')"
   ]
  },
  {
   "cell_type": "code",
   "execution_count": 40,
   "id": "5b5e3257",
   "metadata": {},
   "outputs": [],
   "source": [
    "db = pymysql.connect(\n",
    "    host = '127.0.0.1',\n",
    "    port = 3306,\n",
    "    user = mysql_user_info['user_id'],\n",
    "    passwd = mysql_user_info['password'],\n",
    "    db = 'pydb'\n",
    ")\n",
    "\n",
    "cursor = db.cursor()"
   ]
  },
  {
   "cell_type": "code",
   "execution_count": 41,
   "id": "5a45e106",
   "metadata": {},
   "outputs": [],
   "source": [
    "import csv"
   ]
  },
  {
   "cell_type": "code",
   "execution_count": 51,
   "id": "02096b3a",
   "metadata": {},
   "outputs": [
    {
     "name": "stdout",
     "output_type": "stream",
     "text": [
      "<_csv.reader object at 0x0000026B95F41400>\n"
     ]
    }
   ],
   "source": [
    "f = open('db2csv.csv', 'r', encoding='UTF-8')\n",
    "# csv_reader = csv.reader(f, delimiter='\\t')\n",
    "csv_reader = csv.reader(f, delimiter=',')\n",
    "\n",
    "print(csv_reader)"
   ]
  },
  {
   "cell_type": "code",
   "execution_count": 52,
   "id": "755ab9ba",
   "metadata": {},
   "outputs": [
    {
     "name": "stdout",
     "output_type": "stream",
     "text": [
      "['1', '하이', '연습', 'ㅎㅎ', '2022-03-13 15:56:52']\n",
      "1 하이 연습 ㅎㅎ 2022-03-13 15:56:52\n",
      "['2', '하이', '연습', 'ㅎㅎ', '2022-03-13 15:56:55']\n",
      "2 하이 연습 ㅎㅎ 2022-03-13 15:56:55\n",
      "['3', '제발되어라', 'ㅇㅇ', '이게무슨', '2022-03-13 15:57:10']\n",
      "3 제발되어라 ㅇㅇ 이게무슨 2022-03-13 15:57:10\n",
      "['5', '크래프트', '먹을만함', '콜드브루', '2022-03-13 17:05:16']\n",
      "5 크래프트 먹을만함 콜드브루 2022-03-13 17:05:16\n"
     ]
    }
   ],
   "source": [
    "cnt = 0\n",
    "\n",
    "for row in csv_reader:\n",
    "    if cnt == 0:\n",
    "        cnt += 1\n",
    "        continue\n",
    "        \n",
    "    print(row)\n",
    "    board_no = (row[0])\n",
    "    title = (row[1])\n",
    "    content = (row[2])\n",
    "    writer = (row[3])\n",
    "    reg_date = (row[4])\n",
    "    \n",
    "    print(board_no, title, content, writer, reg_date)\n",
    "    \n",
    "    sql = \"\"\"\n",
    "        insert into csv_to_db_test (board_no, title, content, writer, reg_date) values (%s, %s, %s, %s, %s)\n",
    "    \"\"\"\n",
    "    \n",
    "    cursor.execute(sql, (board_no, title, content, writer, reg_date))\n",
    "    \n",
    "db.commit()\n",
    "\n",
    "f.close()\n",
    "db.close()"
   ]
  },
  {
   "cell_type": "code",
   "execution_count": null,
   "id": "1efedab4",
   "metadata": {},
   "outputs": [],
   "source": []
  },
  {
   "cell_type": "code",
   "execution_count": 53,
   "id": "34f72550",
   "metadata": {},
   "outputs": [],
   "source": [
    "# 카톡 메시지 보내기\n",
    "# 어플리케이션 닉네임 - 필수, 계정 - 선택, 메시지 - 선택\n",
    "# 카카오 로그인 - 활성화\n",
    "# Redirect URI: https://localhost.com\n",
    "# 플랫폼 : https://localhost.com\n",
    "# 부가적으로 naver나 daum 넣고 안넣어도 됨\n",
    "# API:\n",
    "# /oauth/authorize?client_id=${REST_API_KEY}&redirect_uri=${REDIRECT_URI}&response_type=code HTTP/1.1\n",
    "# Host: \n",
    "# kauth.kakao.com\n",
    "# 위의 URL로 이동하여 토큰 발급\n",
    "\n",
    "# https://kauth.kakao.com/oauth/authorize?client_id=6dc63dfe7748b63e5bf1967de914b672&redirect_uri=https://localhost.com&\n",
    "# https://accounts.kakao.com/login?continue=https%3A%2F%2Fkauth.kakao.com%2Foauth%2Fauthorize%3Fresponse_type%3Dcode%26redirect_uri%3Dhttps%253A%252F%252Flocalhost.com%26client_id%3D6dc63dfe7748b63e5bf1967de914b672"
   ]
  },
  {
   "cell_type": "code",
   "execution_count": 4,
   "id": "b763177a",
   "metadata": {},
   "outputs": [
    {
     "name": "stdout",
     "output_type": "stream",
     "text": [
      "{'access_token': 'F5I8BmTSGX43L1oNL4rn0PgRoAtCCZqAOviJ5nUeCisMqAAAAYDvrdQO', 'token_type': 'bearer', 'refresh_token': 'T76v_HAHYrRoXeTr3ecUjyE7kULgeQc_M699RL7vCisMqAAAAYDvrdQN', 'expires_in': 21599, 'scope': 'account_email talk_message profile_nickname', 'refresh_token_expires_in': 5183999}\n"
     ]
    }
   ],
   "source": [
    "import requests\n",
    "\n",
    "url = \"https://kauth.kakao.com/oauth/token\"\n",
    "\n",
    "data = {\n",
    "    \"grant_type\": \"authorization_code\",\n",
    "    \"client_id\": \"\",\n",
    "    \"redirect_uri\": \"https://localhost.com\",\n",
    "    \"code\": \"\"\n",
    "}\n",
    "\n",
    "response = requests.post(url, data=data)\n",
    "\n",
    "if response.status_code != 200:\n",
    "    print(\"에러!\")\n",
    "    \n",
    "else:\n",
    "    tokens = response.json()\n",
    "    print(tokens)"
   ]
  },
  {
   "cell_type": "code",
   "execution_count": 5,
   "id": "381dc5c1",
   "metadata": {},
   "outputs": [],
   "source": [
    "import json\n",
    "import datetime\n",
    "import os\n",
    "\n",
    "# Kakao Token 저장 파일\n",
    "KAKAO_TOKEN_SAVED_FILE = \"kakao_msg/kakao_token.json\"\n",
    "\n",
    "# 저장\n",
    "def save_tokens(filename, tokens):\n",
    "    with open(filename, \"w\") as fp:\n",
    "        json.dump(tokens, fp)\n",
    "        \n",
    "# 읽기\n",
    "def load_tokens(filename):\n",
    "    with open(filename) as fp:\n",
    "        tokens = json.load(fp)\n",
    "        \n",
    "    return tokens\n",
    "\n",
    "# token 저장\n",
    "save_tokens(KAKAO_TOKEN_SAVED_FILE, tokens)"
   ]
  },
  {
   "cell_type": "code",
   "execution_count": 7,
   "id": "29fbbb8b",
   "metadata": {},
   "outputs": [
    {
     "name": "stdout",
     "output_type": "stream",
     "text": [
      "200\n",
      "카톡 메시지가 간드아!!!\n"
     ]
    }
   ],
   "source": [
    "tokens = load_tokens(KAKAO_TOKEN_SAVED_FILE)\n",
    "\n",
    "url = \"https://kapi.kakao.com/v2/api/talk/memo/default/send\"\n",
    "\n",
    "headers = {\n",
    "    \"Authorization\": \"Bearer \" + tokens['access_token']\n",
    "}\n",
    "\n",
    "data = {\n",
    "    \"template_object\": json.dumps({\n",
    "        \"object_type\": \"text\",\n",
    "        \"text\": \"그만 보내!\",\n",
    "        \"link\": {\n",
    "            \"web_url\": \"https://www.naver.com\"\n",
    "        }\n",
    "    })\n",
    "}\n",
    "\n",
    "response = requests.post(url, headers=headers, data=data)\n",
    "print(response.status_code)\n",
    "\n",
    "if response.status_code != 200:\n",
    "    print(\"에러!\")\n",
    "else:\n",
    "    print(\"카톡 메시지가 간드아!!!\")"
   ]
  },
  {
   "cell_type": "code",
   "execution_count": null,
   "id": "f42b9314",
   "metadata": {},
   "outputs": [],
   "source": []
  }
 ],
 "metadata": {
  "kernelspec": {
   "display_name": "Python 3 (ipykernel)",
   "language": "python",
   "name": "python3"
  },
  "language_info": {
   "codemirror_mode": {
    "name": "ipython",
    "version": 3
   },
   "file_extension": ".py",
   "mimetype": "text/x-python",
   "name": "python",
   "nbconvert_exporter": "python",
   "pygments_lexer": "ipython3",
   "version": "3.9.12"
  }
 },
 "nbformat": 4,
 "nbformat_minor": 5
}
