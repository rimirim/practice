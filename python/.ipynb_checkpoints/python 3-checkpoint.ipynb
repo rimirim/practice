{
 "cells": [
  {
   "cell_type": "code",
   "execution_count": 1,
   "id": "9ad8b87b",
   "metadata": {},
   "outputs": [
    {
     "ename": "TypeError",
     "evalue": "'float' object is not iterable",
     "output_type": "error",
     "traceback": [
      "\u001b[1;31m---------------------------------------------------------------------------\u001b[0m",
      "\u001b[1;31mTypeError\u001b[0m                                 Traceback (most recent call last)",
      "Input \u001b[1;32mIn [1]\u001b[0m, in \u001b[0;36m<cell line: 13>\u001b[1;34m()\u001b[0m\n\u001b[0;32m     10\u001b[0m         x \u001b[38;5;241m-\u001b[39m\u001b[38;5;241m=\u001b[39m \u001b[38;5;241m1\u001b[39m\n\u001b[0;32m     11\u001b[0m         time\u001b[38;5;241m.\u001b[39msleep(\u001b[38;5;241m1\u001b[39m)\n\u001b[1;32m---> 13\u001b[0m p \u001b[38;5;241m=\u001b[39m \u001b[43mmultiprocessing\u001b[49m\u001b[38;5;241;43m.\u001b[39;49m\u001b[43mProcess\u001b[49m\u001b[43m(\u001b[49m\u001b[43mtarget\u001b[49m\u001b[38;5;241;43m=\u001b[39;49m\u001b[43mcount_down\u001b[49m\u001b[43m,\u001b[49m\u001b[43m \u001b[49m\u001b[43margs\u001b[49m\u001b[38;5;241;43m=\u001b[39;49m\u001b[43m(\u001b[49m\u001b[38;5;241;43m5.\u001b[39;49m\u001b[43m)\u001b[49m\u001b[43m)\u001b[49m\n\u001b[0;32m     14\u001b[0m p\u001b[38;5;241m.\u001b[39mstart()\n",
      "File \u001b[1;32mC:\\python\\lib\\multiprocessing\\process.py:91\u001b[0m, in \u001b[0;36mBaseProcess.__init__\u001b[1;34m(self, group, target, name, args, kwargs, daemon)\u001b[0m\n\u001b[0;32m     89\u001b[0m \u001b[38;5;28mself\u001b[39m\u001b[38;5;241m.\u001b[39m_closed \u001b[38;5;241m=\u001b[39m \u001b[38;5;28;01mFalse\u001b[39;00m\n\u001b[0;32m     90\u001b[0m \u001b[38;5;28mself\u001b[39m\u001b[38;5;241m.\u001b[39m_target \u001b[38;5;241m=\u001b[39m target\n\u001b[1;32m---> 91\u001b[0m \u001b[38;5;28mself\u001b[39m\u001b[38;5;241m.\u001b[39m_args \u001b[38;5;241m=\u001b[39m \u001b[38;5;28;43mtuple\u001b[39;49m\u001b[43m(\u001b[49m\u001b[43margs\u001b[49m\u001b[43m)\u001b[49m\n\u001b[0;32m     92\u001b[0m \u001b[38;5;28mself\u001b[39m\u001b[38;5;241m.\u001b[39m_kwargs \u001b[38;5;241m=\u001b[39m \u001b[38;5;28mdict\u001b[39m(kwargs)\n\u001b[0;32m     93\u001b[0m \u001b[38;5;28mself\u001b[39m\u001b[38;5;241m.\u001b[39m_name \u001b[38;5;241m=\u001b[39m name \u001b[38;5;129;01mor\u001b[39;00m \u001b[38;5;28mtype\u001b[39m(\u001b[38;5;28mself\u001b[39m)\u001b[38;5;241m.\u001b[39m\u001b[38;5;18m__name__\u001b[39m \u001b[38;5;241m+\u001b[39m \u001b[38;5;124m'\u001b[39m\u001b[38;5;124m-\u001b[39m\u001b[38;5;124m'\u001b[39m \u001b[38;5;241m+\u001b[39m \\\n\u001b[0;32m     94\u001b[0m              \u001b[38;5;124m'\u001b[39m\u001b[38;5;124m:\u001b[39m\u001b[38;5;124m'\u001b[39m\u001b[38;5;241m.\u001b[39mjoin(\u001b[38;5;28mstr\u001b[39m(i) \u001b[38;5;28;01mfor\u001b[39;00m i \u001b[38;5;129;01min\u001b[39;00m \u001b[38;5;28mself\u001b[39m\u001b[38;5;241m.\u001b[39m_identity)\n",
      "\u001b[1;31mTypeError\u001b[0m: 'float' object is not iterable"
     ]
    }
   ],
   "source": [
    "# Mac 이나 Linux\n",
    "import time\n",
    "import multiprocessing\n",
    "\n",
    "def count_down(x):\n",
    "    while True:\n",
    "        if x == 0:\n",
    "            break\n",
    "            \n",
    "        print(\"카운트 다운... %d\" % x)\n",
    "        x -= 1\n",
    "        time.sleep(1)\n",
    "        \n",
    "p = multiprocessing.Process(target=count_down, args=(5.))\n",
    "p.start()"
   ]
  },
  {
   "cell_type": "code",
   "execution_count": 8,
   "id": "8df22368",
   "metadata": {},
   "outputs": [
    {
     "name": "stdout",
     "output_type": "stream",
     "text": [
      "<Process name='Process-6' parent=10636 initial>\n"
     ]
    }
   ],
   "source": [
    "# Windows 는 요렇게\n",
    "import time\n",
    "import multiprocessing\n",
    "\n",
    "def count_down(x):\n",
    "    while True:\n",
    "        if x == 0:\n",
    "            break\n",
    "            \n",
    "        print(\"카운트 다운 ... %d\" % x)\n",
    "        x -= 1\n",
    "        time.sleep(1)\n",
    "\n",
    "if __name__ == '__main__':\n",
    "    p = multiprocessing.Process(target=count_down, args=(5,))\n",
    "    print(p)\n",
    "    p.start()\n",
    "    p.join()"
   ]
  },
  {
   "cell_type": "code",
   "execution_count": 10,
   "id": "705287db",
   "metadata": {},
   "outputs": [
    {
     "name": "stderr",
     "output_type": "stream",
     "text": [
      "'ps'은(는) 내부 또는 외부 명령, 실행할 수 있는 프로그램, 또는\n",
      "배치 파일이 아닙니다.\n"
     ]
    }
   ],
   "source": [
    "# 프로세스 리스트\n",
    "# 아래 거 안되면 !ps -ef\n",
    "# !ps -alx"
   ]
  },
  {
   "cell_type": "code",
   "execution_count": 11,
   "id": "ba3e5ef5",
   "metadata": {},
   "outputs": [],
   "source": [
    "# Task가 CPU의 추상화인 이유는?\n",
    "# 동시에 작동한다 ? --> 정말 동시에 ?\n",
    "# Multi-Tasking (멀티태스킹) --> 실제로는 시분할로 동작\n",
    "# 실제로 우리가 구동시키는 모든 프로그램들은 전부 다 하나도 빠짐없이 모두 기계어로 구동된다.\n",
    "# 이 기계어를 구동시킬 수 있는 녀석은 유일하게 CPU뿐이다.\n",
    "# 결국 이놈들이 시분할로 동작하면서 경쟁하는 이유는? \n",
    "# CPU 자원이 한정되어 있기 때문에"
   ]
  },
  {
   "cell_type": "code",
   "execution_count": 19,
   "id": "fb3c7d3c",
   "metadata": {},
   "outputs": [
    {
     "name": "stdout",
     "output_type": "stream",
     "text": [
      "안녕!\n",
      "module name:  __main__\n",
      "parent process:  10636\n",
      "process id:  14536\n",
      "==========Context Switching==========\n",
      "안녕!\n",
      "module name:  __main__\n",
      "parent process:  10636\n",
      "process id:  9716\n",
      "==========Context Switching==========\n",
      "안녕!\n",
      "안녕!module name:  __main__\n",
      "parent process:  10636\n",
      "process id:  12760\n",
      "==========Context Switching==========\n",
      "\n",
      "module name:  __main__\n",
      "parent process:  10636\n",
      "process id:  4272\n",
      "==========Context Switching==========\n",
      "안녕!\n",
      "module name:  __main__\n",
      "parent process:  10636\n",
      "process id:  11840\n",
      "==========Context Switching==========\n",
      "잠자다 일어나기\n",
      "잠자다 일어나기\n",
      "잠자다 일어나기\n",
      "\n",
      "잠자다 일어나기\n",
      "\n",
      "\n",
      "\n",
      "잠자다 일어나기\n",
      "\n",
      "종료:  1.02초\n"
     ]
    }
   ],
   "source": [
    "import threading\n",
    "import os\n",
    "\n",
    "def info():\n",
    "    print('module name: ', __name__)\n",
    "    print('parent process: ', os.getpid())\n",
    "    print('process id: ', threading.get_ident())\n",
    "    print('==========Context Switching==========')\n",
    "    \n",
    "def print_hello():\n",
    "    print(\"안녕!\")\n",
    "    info()\n",
    "    time.sleep(1)\n",
    "    print(\"잠자다 일어나기\\n\")\n",
    "    \n",
    "if __name__ == '__main__':\n",
    "    start = time.perf_counter()\n",
    "    threads = []\n",
    "    \n",
    "    for _ in range(5):\n",
    "        t = threading.Thread(target = print_hello)\n",
    "        t.start()\n",
    "        threads.append(t)\n",
    "        \n",
    "    for thread in threads:\n",
    "        thread.join()\n",
    "        \n",
    "    finish = time.perf_counter()\n",
    "    \n",
    "    print('종료: ', str(round(finish - start, 2)) + \"초\")\n",
    "    \n",
    "# window 경우 process 안에 여러개의 쓰레드 존재.\n",
    "# 동작이 끝나는 것을 보장받고 싶으면 Async await를 사용해야한다."
   ]
  },
  {
   "cell_type": "code",
   "execution_count": 22,
   "id": "3ed4bd17",
   "metadata": {},
   "outputs": [
    {
     "name": "stdout",
     "output_type": "stream",
     "text": [
      "0번째 반복 이후 = 1550445\n",
      "1번째 반복 이후 = 1873871\n",
      "2번째 반복 이후 = 1322158\n",
      "3번째 반복 이후 = 1747640\n",
      "4번째 반복 이후 = 1734225\n",
      "5번째 반복 이후 = 1476648\n",
      "6번째 반복 이후 = 1339039\n",
      "7번째 반복 이후 = 1464680\n",
      "8번째 반복 이후 = 1753189\n",
      "9번째 반복 이후 = 1618428\n"
     ]
    }
   ],
   "source": [
    "import threading\n",
    "\n",
    "x = 0\n",
    "\n",
    "def increment_global():\n",
    "    global x\n",
    "    x += 1\n",
    "    \n",
    "def thread_processing():\n",
    "    for _ in range(1000000):\n",
    "        increment_global()\n",
    "        \n",
    "def thread_main():\n",
    "    global x\n",
    "    x = 0\n",
    "    \n",
    "    t1 = threading.Thread(target = thread_processing)\n",
    "    t2 = threading.Thread(target = thread_processing)\n",
    "    \n",
    "    t1.start()\n",
    "    t2.start()\n",
    "    \n",
    "    t1.join()\n",
    "    t2.join()\n",
    "    \n",
    "for i in range(10):\n",
    "    thread_main()\n",
    "    print(\"{0}번째 반복 이후 = {1}\".format(i, x))\n",
    "    \n",
    "# 크리티컬 섹션에서 발생하는 문제를 알아보기 위함\n",
    "# 크리티컬 섹션 = x\n",
    "# 실행이 보장받지 않았음"
   ]
  },
  {
   "cell_type": "code",
   "execution_count": 24,
   "id": "7b09f457",
   "metadata": {},
   "outputs": [
    {
     "name": "stdout",
     "output_type": "stream",
     "text": [
      "0번째 반복 이후 = 2000000\n",
      "1번째 반복 이후 = 2000000\n",
      "2번째 반복 이후 = 2000000\n",
      "3번째 반복 이후 = 2000000\n",
      "4번째 반복 이후 = 2000000\n",
      "5번째 반복 이후 = 2000000\n",
      "6번째 반복 이후 = 2000000\n",
      "7번째 반복 이후 = 2000000\n",
      "8번째 반복 이후 = 2000000\n",
      "9번째 반복 이후 = 2000000\n"
     ]
    }
   ],
   "source": [
    "import threading\n",
    "\n",
    "lock = threading.Lock()\n",
    "\n",
    "x = 0\n",
    "\n",
    "def increment_global():\n",
    "    global x\n",
    "    x += 1\n",
    "    \n",
    "def thread_processing():\n",
    "    for _ in range(1000000):\n",
    "        lock.acquire()\n",
    "        increment_global()\n",
    "        lock.release()\n",
    "        \n",
    "def thread_main():\n",
    "    global x\n",
    "    x = 0\n",
    "    \n",
    "    t1 = threading.Thread(target = thread_processing)\n",
    "    t2 = threading.Thread(target = thread_processing)\n",
    "    \n",
    "    t1.start()\n",
    "    t2.start()\n",
    "    \n",
    "    t1.join()\n",
    "    t2.join()\n",
    "    \n",
    "for i in range(10):\n",
    "    thread_main()\n",
    "    print(\"{0}번째 반복 이후 = {1}\".format(i, x))"
   ]
  },
  {
   "cell_type": "code",
   "execution_count": 26,
   "id": "992d1876",
   "metadata": {},
   "outputs": [
    {
     "name": "stdout",
     "output_type": "stream",
     "text": [
      "0번째 반복 이후 = 2000000\n",
      "1번째 반복 이후 = 2000000\n",
      "2번째 반복 이후 = 2000000\n",
      "3번째 반복 이후 = 2000000\n",
      "4번째 반복 이후 = 2000000\n",
      "5번째 반복 이후 = 2000000\n",
      "6번째 반복 이후 = 2000000\n",
      "7번째 반복 이후 = 2000000\n",
      "8번째 반복 이후 = 2000000\n",
      "9번째 반복 이후 = 2000000\n"
     ]
    }
   ],
   "source": [
    "import threading\n",
    "\n",
    "lock = threading.Lock()\n",
    "\n",
    "x = 0\n",
    "\n",
    "def increment_global():\n",
    "    global x\n",
    "    x += 1\n",
    "    \n",
    "def thread_processing():\n",
    "    lock.acquire()\n",
    "    \n",
    "    for _ in range(1000000):\n",
    "        increment_global()\n",
    "        \n",
    "    lock.release()\n",
    "        \n",
    "def thread_main():\n",
    "    global x\n",
    "    x = 0\n",
    "    \n",
    "    t1 = threading.Thread(target = thread_processing)\n",
    "    t2 = threading.Thread(target = thread_processing)\n",
    "    \n",
    "    t1.start()\n",
    "    t2.start()\n",
    "    \n",
    "    t1.join()\n",
    "    t2.join()\n",
    "    \n",
    "for i in range(10):\n",
    "    thread_main()\n",
    "    print(\"{0}번째 반복 이후 = {1}\".format(i, x))"
   ]
  },
  {
   "cell_type": "code",
   "execution_count": 27,
   "id": "6b31cb4d",
   "metadata": {},
   "outputs": [
    {
     "name": "stdout",
     "output_type": "stream",
     "text": [
      "Collecting pymysql\n",
      "  Downloading PyMySQL-1.0.2-py3-none-any.whl (43 kB)\n",
      "Installing collected packages: pymysql\n",
      "Successfully installed pymysql-1.0.2\n"
     ]
    }
   ],
   "source": [
    "# MySQL with Python\n",
    "!pip install pymysql"
   ]
  },
  {
   "cell_type": "code",
   "execution_count": 28,
   "id": "057408ca",
   "metadata": {},
   "outputs": [],
   "source": [
    "import pymysql"
   ]
  },
  {
   "cell_type": "code",
   "execution_count": 29,
   "id": "b48c4b00",
   "metadata": {},
   "outputs": [],
   "source": [
    "MYSQL_USER_DATA_SAVED_FILE = 'mysql/userinfo'"
   ]
  },
  {
   "cell_type": "code",
   "execution_count": 32,
   "id": "2206cc66",
   "metadata": {},
   "outputs": [],
   "source": [
    "import pickle\n",
    "\n",
    "mysql_user_info = dict({\n",
    "    'user_id': 'eddi',\n",
    "    'password': 'eddi@123'\n",
    "})\n",
    "\n",
    "f = open(MYSQL_USER_DATA_SAVED_FILE, 'wb')\n",
    "pickle.dump(mysql_user_info, f)\n",
    "f.close()\n",
    "\n",
    "del mysql_user_info"
   ]
  },
  {
   "cell_type": "code",
   "execution_count": 33,
   "id": "de39b49d",
   "metadata": {},
   "outputs": [],
   "source": [
    "import pickle\n",
    "\n",
    "f = open(MYSQL_USER_DATA_SAVED_FILE, 'rb')\n",
    "mysql_user_info = pickle.load(f)\n",
    "f.close()\n",
    "\n",
    "# import pymysql 부터 여기까지는 python 안에 user info를 저장해둔 것."
   ]
  },
  {
   "cell_type": "code",
   "execution_count": 37,
   "id": "efd3719a",
   "metadata": {},
   "outputs": [
    {
     "name": "stdout",
     "output_type": "stream",
     "text": [
      "<pymysql.connections.Connection object at 0x000001EC0D177A90>\n"
     ]
    }
   ],
   "source": [
    "db = pymysql.connect(\n",
    "    host = '127.0.0.1',\n",
    "    port = 3306,\n",
    "    user = mysql_user_info['user_id'],\n",
    "    passwd = mysql_user_info['password'],\n",
    "    db = 'pydb'\n",
    ")\n",
    "\n",
    "print(db)"
   ]
  },
  {
   "cell_type": "code",
   "execution_count": 38,
   "id": "c5af0ae0",
   "metadata": {},
   "outputs": [
    {
     "name": "stdout",
     "output_type": "stream",
     "text": [
      "테이블 생성 성공!\n"
     ]
    }
   ],
   "source": [
    "cursor = db.cursor()\n",
    "# 커서가 있어야 db를 제어할 수 있다.\n",
    "\n",
    "sql = \"\"\"\n",
    "    create table pydb_test(\n",
    "        id int unsigned not null auto_increment,\n",
    "        name varchar(20) not null,\n",
    "        price int not null,\n",
    "        primary key(id)\n",
    "    )\n",
    "\"\"\"\n",
    "\n",
    "cursor.execute(sql)\n",
    "# 쿼리 실행\n",
    "db.commit()\n",
    "# db에 적용\n",
    "db.close()\n",
    "print('테이블 생성 성공!')"
   ]
  },
  {
   "cell_type": "code",
   "execution_count": null,
   "id": "fd5f0e0e",
   "metadata": {},
   "outputs": [],
   "source": []
  }
 ],
 "metadata": {
  "kernelspec": {
   "display_name": "Python 3 (ipykernel)",
   "language": "python",
   "name": "python3"
  },
  "language_info": {
   "codemirror_mode": {
    "name": "ipython",
    "version": 3
   },
   "file_extension": ".py",
   "mimetype": "text/x-python",
   "name": "python",
   "nbconvert_exporter": "python",
   "pygments_lexer": "ipython3",
   "version": "3.9.12"
  }
 },
 "nbformat": 4,
 "nbformat_minor": 5
}
