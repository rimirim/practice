{
 "cells": [
  {
   "cell_type": "code",
   "execution_count": 1,
   "id": "48e9b3ff",
   "metadata": {},
   "outputs": [],
   "source": [
    "import pandas as pd"
   ]
  },
  {
   "cell_type": "code",
   "execution_count": 3,
   "id": "abd3e7be",
   "metadata": {},
   "outputs": [
    {
     "name": "stdout",
     "output_type": "stream",
     "text": [
      "   1      하이     연습     ㅎㅎ   2022-03-13 15:56:52  Unnamed: 5\n",
      "0  2      하이     연습     ㅎㅎ   2022-03-13 15:56:55         NaN\n",
      "1  3   제발되어라     ㅇㅇ   이게무슨   2022-03-13 15:57:10         NaN\n",
      "2  5    크래프트   먹을만함   콜드브루   2022-03-13 17:05:16         NaN\n"
     ]
    }
   ],
   "source": [
    "# UnicodeDecodeError <-- engine='python'\n",
    "# ParserError: Expected 9 fields in line 9, saw 15 <-- bad line 문제일 가능성이 있음 (error_bad_lines=False)\n",
    "data = pd.read_csv(\"mysql2csv.csv\", engine='python', encoding='CP949')\n",
    "\n",
    "print(data)"
   ]
  },
  {
   "cell_type": "code",
   "execution_count": 4,
   "id": "cea59ff1",
   "metadata": {},
   "outputs": [
    {
     "data": {
      "text/html": [
       "<div>\n",
       "<style scoped>\n",
       "    .dataframe tbody tr th:only-of-type {\n",
       "        vertical-align: middle;\n",
       "    }\n",
       "\n",
       "    .dataframe tbody tr th {\n",
       "        vertical-align: top;\n",
       "    }\n",
       "\n",
       "    .dataframe thead th {\n",
       "        text-align: right;\n",
       "    }\n",
       "</style>\n",
       "<table border=\"1\" class=\"dataframe\">\n",
       "  <thead>\n",
       "    <tr style=\"text-align: right;\">\n",
       "      <th></th>\n",
       "      <th>1</th>\n",
       "      <th>하이</th>\n",
       "      <th>연습</th>\n",
       "      <th>ㅎㅎ</th>\n",
       "      <th>2022-03-13 15:56:52</th>\n",
       "      <th>Unnamed: 5</th>\n",
       "    </tr>\n",
       "  </thead>\n",
       "  <tbody>\n",
       "    <tr>\n",
       "      <th>0</th>\n",
       "      <td>2</td>\n",
       "      <td>하이</td>\n",
       "      <td>연습</td>\n",
       "      <td>ㅎㅎ</td>\n",
       "      <td>2022-03-13 15:56:55</td>\n",
       "      <td>NaN</td>\n",
       "    </tr>\n",
       "    <tr>\n",
       "      <th>1</th>\n",
       "      <td>3</td>\n",
       "      <td>제발되어라</td>\n",
       "      <td>ㅇㅇ</td>\n",
       "      <td>이게무슨</td>\n",
       "      <td>2022-03-13 15:57:10</td>\n",
       "      <td>NaN</td>\n",
       "    </tr>\n",
       "    <tr>\n",
       "      <th>2</th>\n",
       "      <td>5</td>\n",
       "      <td>크래프트</td>\n",
       "      <td>먹을만함</td>\n",
       "      <td>콜드브루</td>\n",
       "      <td>2022-03-13 17:05:16</td>\n",
       "      <td>NaN</td>\n",
       "    </tr>\n",
       "  </tbody>\n",
       "</table>\n",
       "</div>"
      ],
      "text/plain": [
       "   1      하이     연습     ㅎㅎ   2022-03-13 15:56:52  Unnamed: 5\n",
       "0  2      하이     연습     ㅎㅎ   2022-03-13 15:56:55         NaN\n",
       "1  3   제발되어라     ㅇㅇ   이게무슨   2022-03-13 15:57:10         NaN\n",
       "2  5    크래프트   먹을만함   콜드브루   2022-03-13 17:05:16         NaN"
      ]
     },
     "execution_count": 4,
     "metadata": {},
     "output_type": "execute_result"
    }
   ],
   "source": [
    "data.head()"
   ]
  },
  {
   "cell_type": "code",
   "execution_count": 7,
   "id": "d9940394",
   "metadata": {},
   "outputs": [
    {
     "data": {
      "text/html": [
       "<div>\n",
       "<style scoped>\n",
       "    .dataframe tbody tr th:only-of-type {\n",
       "        vertical-align: middle;\n",
       "    }\n",
       "\n",
       "    .dataframe tbody tr th {\n",
       "        vertical-align: top;\n",
       "    }\n",
       "\n",
       "    .dataframe thead th {\n",
       "        text-align: right;\n",
       "    }\n",
       "</style>\n",
       "<table border=\"1\" class=\"dataframe\">\n",
       "  <thead>\n",
       "    <tr style=\"text-align: right;\">\n",
       "      <th></th>\n",
       "      <th>board_no</th>\n",
       "      <th>title</th>\n",
       "      <th>content</th>\n",
       "      <th>writer</th>\n",
       "      <th>reg_date</th>\n",
       "      <th>Not Use</th>\n",
       "    </tr>\n",
       "  </thead>\n",
       "  <tbody>\n",
       "    <tr>\n",
       "      <th>0</th>\n",
       "      <td>2</td>\n",
       "      <td>하이</td>\n",
       "      <td>연습</td>\n",
       "      <td>ㅎㅎ</td>\n",
       "      <td>2022-03-13 15:56:55</td>\n",
       "      <td>NaN</td>\n",
       "    </tr>\n",
       "    <tr>\n",
       "      <th>1</th>\n",
       "      <td>3</td>\n",
       "      <td>제발되어라</td>\n",
       "      <td>ㅇㅇ</td>\n",
       "      <td>이게무슨</td>\n",
       "      <td>2022-03-13 15:57:10</td>\n",
       "      <td>NaN</td>\n",
       "    </tr>\n",
       "    <tr>\n",
       "      <th>2</th>\n",
       "      <td>5</td>\n",
       "      <td>크래프트</td>\n",
       "      <td>먹을만함</td>\n",
       "      <td>콜드브루</td>\n",
       "      <td>2022-03-13 17:05:16</td>\n",
       "      <td>NaN</td>\n",
       "    </tr>\n",
       "  </tbody>\n",
       "</table>\n",
       "</div>"
      ],
      "text/plain": [
       "   board_no   title content writer              reg_date  Not Use\n",
       "0         2      하이      연습     ㅎㅎ   2022-03-13 15:56:55      NaN\n",
       "1         3   제발되어라      ㅇㅇ   이게무슨   2022-03-13 15:57:10      NaN\n",
       "2         5    크래프트    먹을만함   콜드브루   2022-03-13 17:05:16      NaN"
      ]
     },
     "execution_count": 7,
     "metadata": {},
     "output_type": "execute_result"
    }
   ],
   "source": [
    "data.columns = ['board_no','title','content','writer','reg_date','Not Use']\n",
    "\n",
    "data"
   ]
  },
  {
   "cell_type": "code",
   "execution_count": null,
   "id": "bbdaf8ed",
   "metadata": {},
   "outputs": [],
   "source": []
  }
 ],
 "metadata": {
  "kernelspec": {
   "display_name": "Python 3 (ipykernel)",
   "language": "python",
   "name": "python3"
  },
  "language_info": {
   "codemirror_mode": {
    "name": "ipython",
    "version": 3
   },
   "file_extension": ".py",
   "mimetype": "text/x-python",
   "name": "python",
   "nbconvert_exporter": "python",
   "pygments_lexer": "ipython3",
   "version": "3.9.12"
  }
 },
 "nbformat": 4,
 "nbformat_minor": 5
}
