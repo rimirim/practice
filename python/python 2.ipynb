{
 "cells": [
  {
   "cell_type": "code",
   "execution_count": 1,
   "id": "c74087ef",
   "metadata": {},
   "outputs": [
    {
     "name": "stdout",
     "output_type": "stream",
     "text": [
      "<function times at 0x000002319CC32C10>\n",
      "100\n"
     ]
    }
   ],
   "source": [
    "# 함수(매서드) 만들기\n",
    "# 파이썬은 저번에도 봤듯이 클래스 없이 매서드만 만들 수도 있음\n",
    "\n",
    "def times(a,b):\n",
    "    return a * b\n",
    "\n",
    "# times 에서 나타나는 이상한 숫자의 정체는 무엇일까?\n",
    "#  = 객체(매서드)의 메모리 주소값\n",
    "print(times)\n",
    "print(times(10,10))"
   ]
  },
  {
   "cell_type": "code",
   "execution_count": 2,
   "id": "d1dc5eff",
   "metadata": {},
   "outputs": [
    {
     "name": "stdout",
     "output_type": "stream",
     "text": [
      "100\n"
     ]
    }
   ],
   "source": [
    "pointerOfFunction = times\n",
    "res = pointerOfFunction(10,10)\n",
    "print(res)"
   ]
  },
  {
   "cell_type": "code",
   "execution_count": 5,
   "id": "ffa67ace",
   "metadata": {},
   "outputs": [
    {
     "name": "stdout",
     "output_type": "stream",
     "text": [
      "**** preList x: A\n",
      "**** preList x: p\n",
      "**** postList x: p\n",
      "**** preList x: p\n",
      "**** postList x: p\n",
      "**** preList x: l\n",
      "**** preList x: e\n",
      "**** postList x: e\n",
      "['p', 'p', 'e']\n",
      "**** preList x: A\n",
      "**** postList x: A\n",
      "**** preList x: p\n",
      "**** preList x: p\n",
      "**** preList x: l\n",
      "**** preList x: e\n",
      "['A']\n"
     ]
    }
   ],
   "source": [
    "def intersect(preList, postList):\n",
    "    retList = []\n",
    "    \n",
    "    for x in preList:\n",
    "        print(\"**** preList x:\", x)\n",
    "        if x in postList:\n",
    "            print(\"**** postList x:\", x)\n",
    "            retList.append(x)\n",
    "            \n",
    "    return retList\n",
    "    \n",
    "list1 = \"Apple\"\n",
    "list2 = \"grape\"\n",
    "\n",
    "print(intersect(list1, list2))\n",
    "print(intersect(list1, ['H', 'A', 'M']))"
   ]
  },
  {
   "cell_type": "code",
   "execution_count": 6,
   "id": "c69dd56e",
   "metadata": {},
   "outputs": [
    {
     "name": "stdout",
     "output_type": "stream",
     "text": [
      "(7, 3)\n"
     ]
    }
   ],
   "source": [
    "def swap(x, y):\n",
    "    return y, x\n",
    "# return값이 두개가 가능하다는 것이 파이썬의 특징이다.\n",
    "\n",
    "print(swap(3, 7))\n",
    "# 이 리턴값은 튜플이다. {} 딕셔너리, 해시, [] 리스트 () 튜플\n",
    "# 튜플은 왜 사용할까? java - final, c - const\n",
    "# 값의 변경을 방지하기 위해 (immutable) - 불변성 !\n",
    "# 이 것은 궁극적으로 setter를 쓰지말라와 연결됨\n",
    "# 해당 내용은 결국 협업하는 관점까지도 연결이 됨\n",
    "# setter은 누구나 접근하여 수정할 수 있기 때문에 후에 알 수 없는 값이 될 수도 있음"
   ]
  },
  {
   "cell_type": "code",
   "execution_count": 7,
   "id": "9431b623",
   "metadata": {},
   "outputs": [
    {
     "name": "stdout",
     "output_type": "stream",
     "text": [
      "77\n",
      "33\n"
     ]
    }
   ],
   "source": [
    "a, b = swap(33, 77)\n",
    "print(a)\n",
    "print(b)"
   ]
  },
  {
   "cell_type": "code",
   "execution_count": 8,
   "id": "5be38976",
   "metadata": {},
   "outputs": [
    {
     "name": "stdout",
     "output_type": "stream",
     "text": [
      "(777, 333)\n",
      "<class 'tuple'>\n"
     ]
    }
   ],
   "source": [
    "x = swap(333, 777)\n",
    "print(x)\n",
    "print(type(x))"
   ]
  },
  {
   "cell_type": "code",
   "execution_count": 10,
   "id": "16f7d5a7",
   "metadata": {},
   "outputs": [
    {
     "name": "stdout",
     "output_type": "stream",
     "text": [
      "30\n"
     ]
    }
   ],
   "source": [
    "a = 10\n",
    "b = 20\n",
    "\n",
    "def sum_test(x, y):\n",
    "    return x + y\n",
    "\n",
    "print(sum_test(a, b))"
   ]
  },
  {
   "cell_type": "code",
   "execution_count": 13,
   "id": "364028eb",
   "metadata": {},
   "outputs": [
    {
     "name": "stdout",
     "output_type": "stream",
     "text": [
      "11\n",
      "10\n"
     ]
    }
   ],
   "source": [
    "x = 10\n",
    "\n",
    "def sum_test(x, y):\n",
    "    x = 1\n",
    "    return x + y\n",
    "\n",
    "print(sum_test(x, x))\n",
    "print(x)"
   ]
  },
  {
   "cell_type": "code",
   "execution_count": 14,
   "id": "69af341c",
   "metadata": {},
   "outputs": [
    {
     "name": "stdout",
     "output_type": "stream",
     "text": [
      "['J', 'A', 'M']\n",
      "['H', 'A', 'M']\n"
     ]
    }
   ],
   "source": [
    "def change(x):\n",
    "    x[0] = 'H'\n",
    "    \n",
    "wordList = ['J', 'A', 'M']\n",
    "print(wordList)\n",
    "\n",
    "change(wordList)\n",
    "print(wordList)"
   ]
  },
  {
   "cell_type": "code",
   "execution_count": 15,
   "id": "6cb9b7ff",
   "metadata": {},
   "outputs": [
    {
     "name": "stdout",
     "output_type": "stream",
     "text": [
      "['J', 'A', 'M']\n",
      "['J', 'A', 'M']\n"
     ]
    }
   ],
   "source": [
    "def change2(x):\n",
    "    # 아래와 같은 방식의 복사는 서로 다른 메모리를 참조함\n",
    "    # 다른 객체가 되었음 (값은 복사됨)\n",
    "    x = x[:]\n",
    "    # 데이터는 바꾸지 않고 특정 가공을 하거나 처리를 해야하는 상황 (영상 처리 할때 많이 사용)\n",
    "    x[0] = 'H'\n",
    "    \n",
    "wordList = ['J', 'A', 'M']\n",
    "print(wordList)\n",
    "\n",
    "change2(wordList)\n",
    "print(wordList)"
   ]
  },
  {
   "cell_type": "code",
   "execution_count": 16,
   "id": "32d88e19",
   "metadata": {},
   "outputs": [
    {
     "name": "stdout",
     "output_type": "stream",
     "text": [
      "1\n",
      "10\n",
      "7\n"
     ]
    }
   ],
   "source": [
    "glob = 1\n",
    "print(glob)\n",
    "\n",
    "def globScope(x):\n",
    "    global glob\n",
    "    # global = 전역변수로써 사용하겠다\n",
    "    glob = 7\n",
    "    return glob + x\n",
    "\n",
    "print(globScope(3))\n",
    "print(glob)"
   ]
  },
  {
   "cell_type": "code",
   "execution_count": 17,
   "id": "3ddba341",
   "metadata": {},
   "outputs": [
    {
     "name": "stdout",
     "output_type": "stream",
     "text": [
      "6\n"
     ]
    }
   ],
   "source": [
    "g = lambda x, y: x * y\n",
    "print (g(2,3))"
   ]
  },
  {
   "cell_type": "code",
   "execution_count": 18,
   "id": "4bca40c2",
   "metadata": {},
   "outputs": [
    {
     "name": "stdout",
     "output_type": "stream",
     "text": [
      "9\n"
     ]
    }
   ],
   "source": [
    "print((lambda x: x * x)(3))"
   ]
  },
  {
   "cell_type": "code",
   "execution_count": 24,
   "id": "ed0aea93",
   "metadata": {},
   "outputs": [
    {
     "name": "stdout",
     "output_type": "stream",
     "text": [
      "11\n",
      " C 드라이브의 볼륨에는 이름이 없습니다.\n",
      " 볼륨 일련 번호: C83F-50B9\n",
      "\n",
      " C:\\practice\\python 디렉터리\n",
      "\n",
      "2022-05-13  오후 04:41    <DIR>          .\n",
      "2022-05-13  오후 04:41    <DIR>          ..\n",
      "2022-05-12  오후 07:02    <DIR>          .idea\n",
      "2022-05-13  오후 03:45    <DIR>          .ipynb_checkpoints\n",
      "2022-05-12  오후 06:55            15,480 python 1.ipynb\n",
      "2022-05-13  오후 04:41             9,507 python 2.ipynb\n",
      "2022-05-13  오후 04:43                12 test.txt\n",
      "               3개 파일              24,999 바이트\n",
      "               4개 디렉터리  347,176,738,816 바이트 남음\n"
     ]
    }
   ],
   "source": [
    "# 파일 I/O 처리\n",
    "f = open('test.txt', 'w') # 'w' = 쓰기모드\n",
    "print(f.write('ARIM\\nPython'))\n",
    "#open이랑 close는 묶어서 다님\n",
    "\n",
    "f.close()\n",
    "\n",
    "# 윈도우의 경우\n",
    "!dir"
   ]
  },
  {
   "cell_type": "code",
   "execution_count": 25,
   "id": "b93114de",
   "metadata": {},
   "outputs": [
    {
     "name": "stdout",
     "output_type": "stream",
     "text": [
      "ARIM\n",
      "Python\n"
     ]
    }
   ],
   "source": [
    "# 잘 만들었는지 확인\n",
    "# 윈도우\n",
    "!type test.txt"
   ]
  },
  {
   "cell_type": "code",
   "execution_count": 26,
   "id": "0951aee0",
   "metadata": {},
   "outputs": [
    {
     "name": "stdout",
     "output_type": "stream",
     "text": [
      "ARIM\n",
      "Python\n",
      "True\n"
     ]
    }
   ],
   "source": [
    "f= open('test.txt')\n",
    "print(f.read())\n",
    "f.close()\n",
    "print(f.closed)"
   ]
  },
  {
   "cell_type": "code",
   "execution_count": 27,
   "id": "86dd776c",
   "metadata": {},
   "outputs": [
    {
     "name": "stdout",
     "output_type": "stream",
     "text": [
      "['ARIM\\n', 'Python']\n",
      "False\n",
      "True\n"
     ]
    }
   ],
   "source": [
    "with open('test.txt') as f:\n",
    "    print(f.readlines())\n",
    "    print(f.closed)\n",
    "    \n",
    "print(f.closed)"
   ]
  },
  {
   "cell_type": "code",
   "execution_count": 28,
   "id": "ae146b88",
   "metadata": {},
   "outputs": [
    {
     "name": "stdout",
     "output_type": "stream",
     "text": [
      "['red', 'green', 'blue']\n"
     ]
    }
   ],
   "source": [
    "colors = ['red', 'green', 'blue']\n",
    "print(colors)\n",
    "\n",
    "def check_colors():\n",
    "    if 'colors' in globals():\n",
    "        print(\"True\")\n",
    "    else:\n",
    "        print(\"False\")"
   ]
  },
  {
   "cell_type": "code",
   "execution_count": 29,
   "id": "bda2768b",
   "metadata": {},
   "outputs": [
    {
     "name": "stdout",
     "output_type": "stream",
     "text": [
      "True\n"
     ]
    }
   ],
   "source": [
    "import pickle\n",
    "# 파이썬 오브젝트를 저장하는 역할\n",
    "\n",
    "# write byte로 문자가 아닌 데이터 저장시 활용\n",
    "f = open('colors', 'wb')\n",
    "pickle.dump(colors, f)\n",
    "f.close()\n",
    "\n",
    "check_colors()"
   ]
  },
  {
   "cell_type": "code",
   "execution_count": 30,
   "id": "32ae343a",
   "metadata": {},
   "outputs": [
    {
     "name": "stdout",
     "output_type": "stream",
     "text": [
      "False\n"
     ]
    }
   ],
   "source": [
    "#del은 colors 정보를 증발시킴\n",
    "del colors\n",
    "\n",
    "check_colors ()"
   ]
  },
  {
   "cell_type": "code",
   "execution_count": 31,
   "id": "a5e0e2a9",
   "metadata": {},
   "outputs": [
    {
     "name": "stdout",
     "output_type": "stream",
     "text": [
      "['red', 'green', 'blue']\n",
      "True\n"
     ]
    }
   ],
   "source": [
    "f = open('colors', 'rb')\n",
    "colors = pickle.load(f)\n",
    "# 정보 복원\n",
    "f.close()\n",
    "\n",
    "print(colors)\n",
    "check_colors()"
   ]
  },
  {
   "cell_type": "code",
   "execution_count": 32,
   "id": "ef03f1f0",
   "metadata": {},
   "outputs": [
    {
     "data": {
      "text/plain": [
       "{'__name__': '__main__',\n",
       " '__doc__': 'Automatically created module for IPython interactive environment',\n",
       " '__package__': None,\n",
       " '__loader__': None,\n",
       " '__spec__': None,\n",
       " '__builtin__': <module 'builtins' (built-in)>,\n",
       " '__builtins__': <module 'builtins' (built-in)>,\n",
       " '_ih': ['',\n",
       "  '# 함수(매서드) 만들기\\n# 파이썬은 저번에도 봤듯이 클래스 없이 매서드만 만들 수도 있음\\n\\ndef times(a,b):\\n    return a * b\\n\\nprint(times)\\nprint(times(10,10))',\n",
       "  'pointerOfFunction = times\\nres = pointerOfFunction(10,10)\\nprint(res)',\n",
       "  'def intersect(preList, postList):\\n    retList = []\\n    \\n    for x in preList:\\n        print(\"**** preList x:\", x)\\n        if x in postList:\\n            print(\"**** postList x:\", x)\\n            retList.append(x)\\n            \\n        return retList\\n    \\nlist1 = \"Apple\"\\nlist2 = \"Grape\"\\n\\nprint(intersect(list1, list2))\\nprint(intersect(list1, [\\'H\\', \\'A\\', \\'M\\']))',\n",
       "  'def intersect(preList, postList):\\n    retList = []\\n    \\n    for x in preList:\\n        print(\"**** preList x:\", x)\\n        if x in postList:\\n            print(\"**** postList x:\", x)\\n            retList.append(x)\\n            \\n        return retList\\n    \\nlist1 = \"Apple\"\\nlist2 = \"grape\"\\n\\nprint(intersect(list1, list2))\\nprint(intersect(list1, [\\'H\\', \\'A\\', \\'M\\']))',\n",
       "  'def intersect(preList, postList):\\n    retList = []\\n    \\n    for x in preList:\\n        print(\"**** preList x:\", x)\\n        if x in postList:\\n            print(\"**** postList x:\", x)\\n            retList.append(x)\\n            \\n    return retList\\n    \\nlist1 = \"Apple\"\\nlist2 = \"grape\"\\n\\nprint(intersect(list1, list2))\\nprint(intersect(list1, [\\'H\\', \\'A\\', \\'M\\']))',\n",
       "  'def swap(x, y):\\n    return y, x\\n\\nprint(swap(3, 7))',\n",
       "  'a, b = swap(33, 77)\\nprint(a)\\nprint(b)',\n",
       "  'x = swap(333, 777)\\nprint(x)\\nprint(type(x))',\n",
       "  'a = 10\\nb = 20\\n\\ndef sum_test(x, y):\\n    x = 1\\n    return x + y\\n\\nprint(sum_test(a, b))',\n",
       "  'a = 10\\nb = 20\\n\\ndef sum_test(x, y):\\n    return x + y\\n\\nprint(sum_test(a, b))',\n",
       "  'a = 10\\nb = 20\\n\\ndef sum_test(x, y):\\n    x = 1\\n    return x + y\\n\\nprint(sum_test(a, b))\\nprint(x)',\n",
       "  'a = 10\\nb = 20\\n\\ndef sum_test(x, y):\\n    x = 1\\n    return x + y\\n\\nprint(sum_test(x, x))\\nprint(x)',\n",
       "  'x = 10\\n\\ndef sum_test(x, y):\\n    x = 1\\n    return x + y\\n\\nprint(sum_test(x, x))\\nprint(x)',\n",
       "  \"def change(x):\\n    x[0] = 'H'\\n    \\nwordList = ['J', 'A', 'M']\\nprint(wordList)\\n\\nchange(wordList)\\nprint(wordList)\",\n",
       "  \"def change2(x):\\n    # 아래와 같은 방식의 복사는 서로 다른 메모리를 참조함\\n    # 다른 객체가 되었음 (값은 복사됨)\\n    x = x[:]\\n    x[0] = 'H'\\n    \\nwordList = ['J', 'A', 'M']\\nprint(wordList)\\n\\nchange2(wordList)\\nprint(wordList)\",\n",
       "  'glob = 1\\nprint(glob)\\n\\ndef globScope(x):\\n    global glob\\n    glob = 7\\n    return glob + x\\n\\nprint(globScope(3))\\nprint(glob)',\n",
       "  'g = lambda x, y: x * y\\nprint (g(2,3))',\n",
       "  'print((lambda x: x * x)(3))',\n",
       "  \"# 파일 I/O 처리\\nf = open('test.txt', 'w')\\nprint(f.write(prctice\\\\python))\\n\\nf.close()\\n\\n# 윈도우의 경우\\nget_ipython().system('dir')\",\n",
       "  \"# 파일 I/O 처리\\nf = open('test.txt', 'w')\\nprint(f.write('prctice\\\\python'))\\n\\nf.close()\\n\\n# 윈도우의 경우\\nget_ipython().system('dir')\",\n",
       "  \"# 잘 만들었는지 확인\\n# 윈도우\\nget_ipython().system('type test.txt')\",\n",
       "  \"f= open('test.txt')\\nprint(f.read())\\nf.close()\\nprint(f.closed)\",\n",
       "  \"with open('test.txt') as f:\\n    print(f.readlines())\\n    print(f.closed)\\n    \\nprint(f.closed)\",\n",
       "  \"# 파일 I/O 처리\\nf = open('test.txt', 'w') # 'w' = 쓰기모드\\nprint(f.write('ARIM\\\\nPython'))\\n#open이랑 close는 묶어서 다님\\n\\nf.close()\\n\\n# 윈도우의 경우\\nget_ipython().system('dir')\",\n",
       "  \"# 잘 만들었는지 확인\\n# 윈도우\\nget_ipython().system('type test.txt')\",\n",
       "  \"f= open('test.txt')\\nprint(f.read())\\nf.close()\\nprint(f.closed)\",\n",
       "  \"with open('test.txt') as f:\\n    print(f.readlines())\\n    print(f.closed)\\n    \\nprint(f.closed)\",\n",
       "  'colors = [\\'red\\', \\'green\\', \\'blue\\']\\nprint(colors)\\n\\ndef check_colors():\\n    if \\'colors\\' in globals():\\n        print(\"True\")\\n    else:\\n        print(\"False\")',\n",
       "  \"import pickle\\n# 파이썬 오브젝트를 저장하는 역할\\n\\n# write byte로 문자가 아닌 데이터 저장시 활용\\nf = open('colors', 'wb')\\npickle.dump(colors, f)\\nf.close()\\n\\ncheck_colors()\",\n",
       "  '#del은 colors 정보를 증발시킴\\ndel colors\\n\\ncheck_colors ()',\n",
       "  \"f = open('colors', 'rb')\\ncolors = pickle.load(f)\\nf.close()\\n\\nprint(colors)\\ncheck_colors()\",\n",
       "  'globals()\\n# 지금까지 모든 전역변수들 ~ '],\n",
       " '_oh': {},\n",
       " '_dh': [WindowsPath('C:/practice/python')],\n",
       " 'In': ['',\n",
       "  '# 함수(매서드) 만들기\\n# 파이썬은 저번에도 봤듯이 클래스 없이 매서드만 만들 수도 있음\\n\\ndef times(a,b):\\n    return a * b\\n\\nprint(times)\\nprint(times(10,10))',\n",
       "  'pointerOfFunction = times\\nres = pointerOfFunction(10,10)\\nprint(res)',\n",
       "  'def intersect(preList, postList):\\n    retList = []\\n    \\n    for x in preList:\\n        print(\"**** preList x:\", x)\\n        if x in postList:\\n            print(\"**** postList x:\", x)\\n            retList.append(x)\\n            \\n        return retList\\n    \\nlist1 = \"Apple\"\\nlist2 = \"Grape\"\\n\\nprint(intersect(list1, list2))\\nprint(intersect(list1, [\\'H\\', \\'A\\', \\'M\\']))',\n",
       "  'def intersect(preList, postList):\\n    retList = []\\n    \\n    for x in preList:\\n        print(\"**** preList x:\", x)\\n        if x in postList:\\n            print(\"**** postList x:\", x)\\n            retList.append(x)\\n            \\n        return retList\\n    \\nlist1 = \"Apple\"\\nlist2 = \"grape\"\\n\\nprint(intersect(list1, list2))\\nprint(intersect(list1, [\\'H\\', \\'A\\', \\'M\\']))',\n",
       "  'def intersect(preList, postList):\\n    retList = []\\n    \\n    for x in preList:\\n        print(\"**** preList x:\", x)\\n        if x in postList:\\n            print(\"**** postList x:\", x)\\n            retList.append(x)\\n            \\n    return retList\\n    \\nlist1 = \"Apple\"\\nlist2 = \"grape\"\\n\\nprint(intersect(list1, list2))\\nprint(intersect(list1, [\\'H\\', \\'A\\', \\'M\\']))',\n",
       "  'def swap(x, y):\\n    return y, x\\n\\nprint(swap(3, 7))',\n",
       "  'a, b = swap(33, 77)\\nprint(a)\\nprint(b)',\n",
       "  'x = swap(333, 777)\\nprint(x)\\nprint(type(x))',\n",
       "  'a = 10\\nb = 20\\n\\ndef sum_test(x, y):\\n    x = 1\\n    return x + y\\n\\nprint(sum_test(a, b))',\n",
       "  'a = 10\\nb = 20\\n\\ndef sum_test(x, y):\\n    return x + y\\n\\nprint(sum_test(a, b))',\n",
       "  'a = 10\\nb = 20\\n\\ndef sum_test(x, y):\\n    x = 1\\n    return x + y\\n\\nprint(sum_test(a, b))\\nprint(x)',\n",
       "  'a = 10\\nb = 20\\n\\ndef sum_test(x, y):\\n    x = 1\\n    return x + y\\n\\nprint(sum_test(x, x))\\nprint(x)',\n",
       "  'x = 10\\n\\ndef sum_test(x, y):\\n    x = 1\\n    return x + y\\n\\nprint(sum_test(x, x))\\nprint(x)',\n",
       "  \"def change(x):\\n    x[0] = 'H'\\n    \\nwordList = ['J', 'A', 'M']\\nprint(wordList)\\n\\nchange(wordList)\\nprint(wordList)\",\n",
       "  \"def change2(x):\\n    # 아래와 같은 방식의 복사는 서로 다른 메모리를 참조함\\n    # 다른 객체가 되었음 (값은 복사됨)\\n    x = x[:]\\n    x[0] = 'H'\\n    \\nwordList = ['J', 'A', 'M']\\nprint(wordList)\\n\\nchange2(wordList)\\nprint(wordList)\",\n",
       "  'glob = 1\\nprint(glob)\\n\\ndef globScope(x):\\n    global glob\\n    glob = 7\\n    return glob + x\\n\\nprint(globScope(3))\\nprint(glob)',\n",
       "  'g = lambda x, y: x * y\\nprint (g(2,3))',\n",
       "  'print((lambda x: x * x)(3))',\n",
       "  \"# 파일 I/O 처리\\nf = open('test.txt', 'w')\\nprint(f.write(prctice\\\\python))\\n\\nf.close()\\n\\n# 윈도우의 경우\\nget_ipython().system('dir')\",\n",
       "  \"# 파일 I/O 처리\\nf = open('test.txt', 'w')\\nprint(f.write('prctice\\\\python'))\\n\\nf.close()\\n\\n# 윈도우의 경우\\nget_ipython().system('dir')\",\n",
       "  \"# 잘 만들었는지 확인\\n# 윈도우\\nget_ipython().system('type test.txt')\",\n",
       "  \"f= open('test.txt')\\nprint(f.read())\\nf.close()\\nprint(f.closed)\",\n",
       "  \"with open('test.txt') as f:\\n    print(f.readlines())\\n    print(f.closed)\\n    \\nprint(f.closed)\",\n",
       "  \"# 파일 I/O 처리\\nf = open('test.txt', 'w') # 'w' = 쓰기모드\\nprint(f.write('ARIM\\\\nPython'))\\n#open이랑 close는 묶어서 다님\\n\\nf.close()\\n\\n# 윈도우의 경우\\nget_ipython().system('dir')\",\n",
       "  \"# 잘 만들었는지 확인\\n# 윈도우\\nget_ipython().system('type test.txt')\",\n",
       "  \"f= open('test.txt')\\nprint(f.read())\\nf.close()\\nprint(f.closed)\",\n",
       "  \"with open('test.txt') as f:\\n    print(f.readlines())\\n    print(f.closed)\\n    \\nprint(f.closed)\",\n",
       "  'colors = [\\'red\\', \\'green\\', \\'blue\\']\\nprint(colors)\\n\\ndef check_colors():\\n    if \\'colors\\' in globals():\\n        print(\"True\")\\n    else:\\n        print(\"False\")',\n",
       "  \"import pickle\\n# 파이썬 오브젝트를 저장하는 역할\\n\\n# write byte로 문자가 아닌 데이터 저장시 활용\\nf = open('colors', 'wb')\\npickle.dump(colors, f)\\nf.close()\\n\\ncheck_colors()\",\n",
       "  '#del은 colors 정보를 증발시킴\\ndel colors\\n\\ncheck_colors ()',\n",
       "  \"f = open('colors', 'rb')\\ncolors = pickle.load(f)\\nf.close()\\n\\nprint(colors)\\ncheck_colors()\",\n",
       "  'globals()\\n# 지금까지 모든 전역변수들 ~ '],\n",
       " 'Out': {},\n",
       " 'get_ipython': <bound method InteractiveShell.get_ipython of <ipykernel.zmqshell.ZMQInteractiveShell object at 0x000002319CB8CE50>>,\n",
       " 'exit': <IPython.core.autocall.ZMQExitAutocall at 0x2319cbb0e50>,\n",
       " 'quit': <IPython.core.autocall.ZMQExitAutocall at 0x2319cbb0e50>,\n",
       " '_': '',\n",
       " '__': '',\n",
       " '___': '',\n",
       " '_i': \"f = open('colors', 'rb')\\ncolors = pickle.load(f)\\nf.close()\\n\\nprint(colors)\\ncheck_colors()\",\n",
       " '_ii': '#del은 colors 정보를 증발시킴\\ndel colors\\n\\ncheck_colors ()',\n",
       " '_iii': \"import pickle\\n# 파이썬 오브젝트를 저장하는 역할\\n\\n# write byte로 문자가 아닌 데이터 저장시 활용\\nf = open('colors', 'wb')\\npickle.dump(colors, f)\\nf.close()\\n\\ncheck_colors()\",\n",
       " '_i1': '# 함수(매서드) 만들기\\n# 파이썬은 저번에도 봤듯이 클래스 없이 매서드만 만들 수도 있음\\n\\ndef times(a,b):\\n    return a * b\\n\\nprint(times)\\nprint(times(10,10))',\n",
       " 'times': <function __main__.times(a, b)>,\n",
       " '_i2': 'pointerOfFunction = times\\nres = pointerOfFunction(10,10)\\nprint(res)',\n",
       " 'pointerOfFunction': <function __main__.times(a, b)>,\n",
       " 'res': 100,\n",
       " '_i3': 'def intersect(preList, postList):\\n    retList = []\\n    \\n    for x in preList:\\n        print(\"**** preList x:\", x)\\n        if x in postList:\\n            print(\"**** postList x:\", x)\\n            retList.append(x)\\n            \\n        return retList\\n    \\nlist1 = \"Apple\"\\nlist2 = \"Grape\"\\n\\nprint(intersect(list1, list2))\\nprint(intersect(list1, [\\'H\\', \\'A\\', \\'M\\']))',\n",
       " 'intersect': <function __main__.intersect(preList, postList)>,\n",
       " 'list1': 'Apple',\n",
       " 'list2': 'grape',\n",
       " '_i4': 'def intersect(preList, postList):\\n    retList = []\\n    \\n    for x in preList:\\n        print(\"**** preList x:\", x)\\n        if x in postList:\\n            print(\"**** postList x:\", x)\\n            retList.append(x)\\n            \\n        return retList\\n    \\nlist1 = \"Apple\"\\nlist2 = \"grape\"\\n\\nprint(intersect(list1, list2))\\nprint(intersect(list1, [\\'H\\', \\'A\\', \\'M\\']))',\n",
       " '_i5': 'def intersect(preList, postList):\\n    retList = []\\n    \\n    for x in preList:\\n        print(\"**** preList x:\", x)\\n        if x in postList:\\n            print(\"**** postList x:\", x)\\n            retList.append(x)\\n            \\n    return retList\\n    \\nlist1 = \"Apple\"\\nlist2 = \"grape\"\\n\\nprint(intersect(list1, list2))\\nprint(intersect(list1, [\\'H\\', \\'A\\', \\'M\\']))',\n",
       " '_i6': 'def swap(x, y):\\n    return y, x\\n\\nprint(swap(3, 7))',\n",
       " 'swap': <function __main__.swap(x, y)>,\n",
       " '_i7': 'a, b = swap(33, 77)\\nprint(a)\\nprint(b)',\n",
       " 'a': 10,\n",
       " 'b': 20,\n",
       " '_i8': 'x = swap(333, 777)\\nprint(x)\\nprint(type(x))',\n",
       " 'x': 10,\n",
       " '_i9': 'a = 10\\nb = 20\\n\\ndef sum_test(x, y):\\n    x = 1\\n    return x + y\\n\\nprint(sum_test(a, b))',\n",
       " 'sum_test': <function __main__.sum_test(x, y)>,\n",
       " '_i10': 'a = 10\\nb = 20\\n\\ndef sum_test(x, y):\\n    return x + y\\n\\nprint(sum_test(a, b))',\n",
       " '_i11': 'a = 10\\nb = 20\\n\\ndef sum_test(x, y):\\n    x = 1\\n    return x + y\\n\\nprint(sum_test(a, b))\\nprint(x)',\n",
       " '_i12': 'a = 10\\nb = 20\\n\\ndef sum_test(x, y):\\n    x = 1\\n    return x + y\\n\\nprint(sum_test(x, x))\\nprint(x)',\n",
       " '_i13': 'x = 10\\n\\ndef sum_test(x, y):\\n    x = 1\\n    return x + y\\n\\nprint(sum_test(x, x))\\nprint(x)',\n",
       " '_i14': \"def change(x):\\n    x[0] = 'H'\\n    \\nwordList = ['J', 'A', 'M']\\nprint(wordList)\\n\\nchange(wordList)\\nprint(wordList)\",\n",
       " 'change': <function __main__.change(x)>,\n",
       " 'wordList': ['J', 'A', 'M'],\n",
       " '_i15': \"def change2(x):\\n    # 아래와 같은 방식의 복사는 서로 다른 메모리를 참조함\\n    # 다른 객체가 되었음 (값은 복사됨)\\n    x = x[:]\\n    x[0] = 'H'\\n    \\nwordList = ['J', 'A', 'M']\\nprint(wordList)\\n\\nchange2(wordList)\\nprint(wordList)\",\n",
       " 'change2': <function __main__.change2(x)>,\n",
       " '_i16': 'glob = 1\\nprint(glob)\\n\\ndef globScope(x):\\n    global glob\\n    glob = 7\\n    return glob + x\\n\\nprint(globScope(3))\\nprint(glob)',\n",
       " 'glob': 7,\n",
       " 'globScope': <function __main__.globScope(x)>,\n",
       " '_i17': 'g = lambda x, y: x * y\\nprint (g(2,3))',\n",
       " 'g': <function __main__.<lambda>(x, y)>,\n",
       " '_i18': 'print((lambda x: x * x)(3))',\n",
       " '_i19': \"# 파일 I/O 처리\\nf = open('test.txt', 'w')\\nprint(f.write(prctice\\\\python))\\n\\nf.close()\\n\\n# 윈도우의 경우\\n!dir\",\n",
       " '_i20': \"# 파일 I/O 처리\\nf = open('test.txt', 'w')\\nprint(f.write('prctice\\\\python'))\\n\\nf.close()\\n\\n# 윈도우의 경우\\n!dir\",\n",
       " 'f': <_io.BufferedReader name='colors'>,\n",
       " '_exit_code': 0,\n",
       " '_i21': '# 잘 만들었는지 확인\\n# 윈도우\\n!type test.txt',\n",
       " '_i22': \"f= open('test.txt')\\nprint(f.read())\\nf.close()\\nprint(f.closed)\",\n",
       " '_i23': \"with open('test.txt') as f:\\n    print(f.readlines())\\n    print(f.closed)\\n    \\nprint(f.closed)\",\n",
       " '_i24': \"# 파일 I/O 처리\\nf = open('test.txt', 'w') # 'w' = 쓰기모드\\nprint(f.write('ARIM\\\\nPython'))\\n#open이랑 close는 묶어서 다님\\n\\nf.close()\\n\\n# 윈도우의 경우\\n!dir\",\n",
       " '_i25': '# 잘 만들었는지 확인\\n# 윈도우\\n!type test.txt',\n",
       " '_i26': \"f= open('test.txt')\\nprint(f.read())\\nf.close()\\nprint(f.closed)\",\n",
       " '_i27': \"with open('test.txt') as f:\\n    print(f.readlines())\\n    print(f.closed)\\n    \\nprint(f.closed)\",\n",
       " '_i28': 'colors = [\\'red\\', \\'green\\', \\'blue\\']\\nprint(colors)\\n\\ndef check_colors():\\n    if \\'colors\\' in globals():\\n        print(\"True\")\\n    else:\\n        print(\"False\")',\n",
       " 'check_colors': <function __main__.check_colors()>,\n",
       " '_i29': \"import pickle\\n# 파이썬 오브젝트를 저장하는 역할\\n\\n# write byte로 문자가 아닌 데이터 저장시 활용\\nf = open('colors', 'wb')\\npickle.dump(colors, f)\\nf.close()\\n\\ncheck_colors()\",\n",
       " 'pickle': <module 'pickle' from 'C:\\\\python\\\\lib\\\\pickle.py'>,\n",
       " '_i30': '#del은 colors 정보를 증발시킴\\ndel colors\\n\\ncheck_colors ()',\n",
       " '_i31': \"f = open('colors', 'rb')\\ncolors = pickle.load(f)\\nf.close()\\n\\nprint(colors)\\ncheck_colors()\",\n",
       " 'colors': ['red', 'green', 'blue'],\n",
       " '_i32': 'globals()\\n# 지금까지 모든 전역변수들 ~ '}"
      ]
     },
     "execution_count": 32,
     "metadata": {},
     "output_type": "execute_result"
    }
   ],
   "source": [
    "globals()\n",
    "# 지금까지 모든 전역변수들 ~ "
   ]
  },
  {
   "cell_type": "code",
   "execution_count": null,
   "id": "de530094",
   "metadata": {},
   "outputs": [],
   "source": []
  },
  {
   "cell_type": "code",
   "execution_count": 34,
   "id": "68bfd853",
   "metadata": {},
   "outputs": [
    {
     "name": "stdout",
     "output_type": "stream",
     "text": [
      "이름은 기본값\n",
      "이름은 일단은 이렇게 막 설정합니다\n",
      "이름은 일단은 이렇게 막 설정합니다\n"
     ]
    }
   ],
   "source": [
    "# Python 클래스\n",
    "class Person:\n",
    "    name = \"기본값\"\n",
    "    \n",
    "    # 파이썬에서 매서드는 반드시 첫 번째 인자에 self를 적어줄 것\n",
    "    def print(self):\n",
    "        print(\"이름은 {0}\".format(self.name))\n",
    "        \n",
    "p1 = Person()\n",
    "p1.print()\n",
    "\n",
    "p1.name = \"일단은 이렇게 막 설정합니다\"\n",
    "p1.print()\n",
    "Person.print(p1)\n",
    "# 클래스 이름으로도 접근할 수 있다."
   ]
  },
  {
   "cell_type": "code",
   "execution_count": 35,
   "id": "46315235",
   "metadata": {},
   "outputs": [
    {
     "name": "stdout",
     "output_type": "stream",
     "text": [
      "p1 이름:  일단은 이렇게 막 설정합니다\n",
      "p2 이름:  일단은 이렇게 막 설정합니다\n"
     ]
    }
   ],
   "source": [
    "p2 = Person()\n",
    "\n",
    "print(\"p1 이름: \", p1.name)\n",
    "print(\"p2 이름: \", p1.name)"
   ]
  },
  {
   "cell_type": "code",
   "execution_count": 36,
   "id": "8d64bd92",
   "metadata": {},
   "outputs": [
    {
     "name": "stdout",
     "output_type": "stream",
     "text": [
      "p1. title:  파이썬은 이런게 됩니다.\n",
      "p2. title:  파이썬은 이런게 됩니다.\n",
      "Person. title:  파이썬은 이런게 됩니다.\n"
     ]
    }
   ],
   "source": [
    "# 문법적으로는 가능하나 절대 해서는 안되는 행위\n",
    "Person.title = \"파이썬은 이런게 됩니다.\"\n",
    "print(\"p1. title: \", p1.title)\n",
    "print(\"p2. title: \", p2.title)\n",
    "print(\"Person. title: \", Person.title)"
   ]
  },
  {
   "cell_type": "code",
   "execution_count": 37,
   "id": "b451b9ee",
   "metadata": {},
   "outputs": [
    {
     "name": "stdout",
     "output_type": "stream",
     "text": [
      "클래스 멤버 아님\n",
      "테스트 메세지\n"
     ]
    }
   ],
   "source": [
    "str1 = '클래스 멤버 아님'\n",
    "\n",
    "class NonSelfTest:\n",
    "    str1 = \"\"\n",
    "    \n",
    "    def setFunc(self, msg):\n",
    "        self.str1 = msg\n",
    "        \n",
    "        # self를 사용해서 멤버 변수를 제어하라는 뜻\n",
    "    def print(self):\n",
    "        print(str1)\n",
    "        print(self.str1)\n",
    "        \n",
    "test = NonSelfTest()\n",
    "test.setFunc(\"테스트 메세지\")\n",
    "test.print()"
   ]
  },
  {
   "cell_type": "code",
   "execution_count": 39,
   "id": "4ef92950",
   "metadata": {},
   "outputs": [
    {
     "name": "stdout",
     "output_type": "stream",
     "text": [
      "클래스 생성 ! value =  333\n",
      "클래스 파괴 !\n",
      "Here\n"
     ]
    }
   ],
   "source": [
    "class Vehicles:\n",
    "    # 생성자\n",
    "    def __init__(self, value):\n",
    "        self.value = value\n",
    "        print(\"클래스 생성 ! value = \", value)\n",
    "        \n",
    "    # 소멸자\n",
    "    def __del__(self):\n",
    "        print(\"클래스 파괴 !\")\n",
    "        \n",
    "def test():\n",
    "    v = Vehicles(333)\n",
    "    \n",
    "test()\n",
    "print('Here')"
   ]
  },
  {
   "cell_type": "code",
   "execution_count": 44,
   "id": "7faa2677",
   "metadata": {},
   "outputs": [
    {
     "name": "stdout",
     "output_type": "stream",
     "text": [
      "{'name': 'Gogosing', 'phoneNum': '010-5665-4453'}\n",
      "{'name': 'Test', 'phoneNum': '010-5555-5555', 'major': '컴퓨터공학', 'studentId': '71717'}\n"
     ]
    }
   ],
   "source": [
    "class Person:\n",
    "    def __init__(self, name, phoneNum):\n",
    "        self.name = name\n",
    "        self.phoneNum = phoneNum\n",
    "\n",
    "    def print(self):\n",
    "        print(\"이름은 {0}, 연락처 {1}\".format(self.name, self.phoneNum))\n",
    "\n",
    "# Student(Person)\n",
    "# 파이썬은 상속을 아래와 같이\n",
    "# 상속받을 클래스 (상속할 클래스)\n",
    "class Student(Person):\n",
    "    def __init__(self, name, phoneNum, major, studentId):\n",
    "        self.name = name\n",
    "        self.phoneNum = phoneNum\n",
    "        self.major = major\n",
    "        self.studentId = studentId\n",
    "        \n",
    "p = Person(\"Gogosing\", \"010-5665-4453\")\n",
    "s = Student(\"Test\", \"010-5555-5555\", \"컴퓨터공학\", \"71717\")\n",
    "\n",
    "# __dict__는 객체에 관련한 모든 정보를 출력함\n",
    "# Java로 치면 toString() 형태로 보면 됨\n",
    "print(p.__dict__)\n",
    "print(s.__dict__)"
   ]
  },
  {
   "cell_type": "code",
   "execution_count": 51,
   "id": "3350927a",
   "metadata": {},
   "outputs": [
    {
     "name": "stdout",
     "output_type": "stream",
     "text": [
      "부모 클래스 - number: 7\n",
      "자식 클래스 - number: 3, number2: 7\n",
      "p2. title:  이건 어떻게 막을까.\n",
      "Child. title:  이건 어떻게 막을까.\n",
      "자식 클래스 - number: 3, number2: 33\n"
     ]
    }
   ],
   "source": [
    "class Parent:\n",
    "    def __init__(self, number):\n",
    "        self.number = number\n",
    "        \n",
    "    def printMsg(self):\n",
    "        print(\"부모 클래스 - number:\",self.number)\n",
    "        \n",
    "class Child(Parent):\n",
    "    def __init__(self, number, number2):\n",
    "        # 상위의 생성자 호출\n",
    "        super(Child, self).__init__(number)\n",
    "        self.number2 = number2\n",
    "        \n",
    "    def printMsg(self):\n",
    "        print(\"자식 클래스 - number: {0}, number2: {1}\".format(self.number, self.number2))\n",
    "        \n",
    "p = Parent(7)\n",
    "p.printMsg()\n",
    "\n",
    "c = Child(3, 7)\n",
    "c.printMsg()\n",
    "\n",
    "# 해서는 안되는 것\n",
    "Child.title = \"이건 어떻게 막을까.\"\n",
    "print(\"p2. title: \", c.title)\n",
    "print(\"Child. title: \", Child.title)\n",
    "\n",
    "# 여전히 못 막는 것\n",
    "c.number2 = 33\n",
    "c.printMsg()"
   ]
  },
  {
   "cell_type": "code",
   "execution_count": 53,
   "id": "09696b88",
   "metadata": {},
   "outputs": [
    {
     "name": "stdout",
     "output_type": "stream",
     "text": [
      "3\n",
      "요래요래\n"
     ]
    },
    {
     "ename": "AttributeError",
     "evalue": "'DummyTestClass' object has no attribute '__var3'",
     "output_type": "error",
     "traceback": [
      "\u001b[1;31m---------------------------------------------------------------------------\u001b[0m",
      "\u001b[1;31mAttributeError\u001b[0m                            Traceback (most recent call last)",
      "Input \u001b[1;32mIn [53]\u001b[0m, in \u001b[0;36m<cell line: 11>\u001b[1;34m()\u001b[0m\n\u001b[0;32m      9\u001b[0m \u001b[38;5;28mprint\u001b[39m(dtc\u001b[38;5;241m.\u001b[39mvar1)\n\u001b[0;32m     10\u001b[0m \u001b[38;5;28mprint\u001b[39m(dtc\u001b[38;5;241m.\u001b[39m_var2)\n\u001b[1;32m---> 11\u001b[0m \u001b[38;5;28mprint\u001b[39m(\u001b[43mdtc\u001b[49m\u001b[38;5;241;43m.\u001b[39;49m\u001b[43m__var3\u001b[49m)\n",
      "\u001b[1;31mAttributeError\u001b[0m: 'DummyTestClass' object has no attribute '__var3'"
     ]
    }
   ],
   "source": [
    "class DummyTestClass:\n",
    "    def __init__(self):\n",
    "        self.var1 = 3\n",
    "        self._var2 = '요래요래'\n",
    "        self.__var3 = '방어'\n",
    "        \n",
    "dtc = DummyTestClass()\n",
    "\n",
    "# 언더바가 없으면 public\n",
    "print(dtc.var1)\n",
    "print(dtc._var2)\n",
    "# __ 가 2개 붙으면 private\n",
    "print(dtc.__var3)"
   ]
  },
  {
   "cell_type": "code",
   "execution_count": 54,
   "id": "227cd9b9",
   "metadata": {},
   "outputs": [
    {
     "name": "stdout",
     "output_type": "stream",
     "text": [
      "방어\n"
     ]
    }
   ],
   "source": [
    "# 이와 같이 _클래스명__private 변수명으로 볼 수 있다.\n",
    "print(dtc._DummyTestClass__var3)"
   ]
  }
 ],
 "metadata": {
  "kernelspec": {
   "display_name": "Python 3 (ipykernel)",
   "language": "python",
   "name": "python3"
  },
  "language_info": {
   "codemirror_mode": {
    "name": "ipython",
    "version": 3
   },
   "file_extension": ".py",
   "mimetype": "text/x-python",
   "name": "python",
   "nbconvert_exporter": "python",
   "pygments_lexer": "ipython3",
   "version": "3.9.12"
  }
 },
 "nbformat": 4,
 "nbformat_minor": 5
}
